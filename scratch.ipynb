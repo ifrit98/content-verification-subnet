{
 "cells": [
  {
   "cell_type": "code",
   "execution_count": 1,
   "metadata": {},
   "outputs": [],
   "source": [
    "from proofnet import cryptography\n",
    "from proofnet import protocol #import Store, Retrieve"
   ]
  },
  {
   "cell_type": "code",
   "execution_count": 2,
   "metadata": {},
   "outputs": [],
   "source": [
    "def store( synapse: protocol.Store ) -> protocol.Store:\n",
    "    # Check content_hash against the content\n",
    "    local_content_hash = cryptography.hash( synapse.content )\n",
    "    bt.logging.debug(f\"Synapse content: {synapse.content}\")\n",
    "    bt.logging.debug(f\"Synapse content hash: {synapse.content_hash}\")\n",
    "    bt.logging.debug(f\"Local content hash: {local_content_hash}\")\n",
    "    stored = False\n",
    "    try:\n",
    "        # If it matches, check the signature against the pubkey\n",
    "        if synapse.content_hash == local_content_hash:\n",
    "            bt.logging.debug(f\"Local content hash matches synapse content hash.\")\n",
    "            if cryptography.verify( synapse.content, synapse.signature, synapse.pubkey ):\n",
    "                # # If it matches, generate a signature of the content signed with the miner key\n",
    "                # store the content has as key and the (miner_signature, pubkey) pairs in the database\n",
    "                miner_signature, miner_pubkey = cryptography.sign_content_with_new_keypair( synapse.content_hash )\n",
    "                self.registry[ synapse.content_hash ] = ( miner_signature, miner_pubkey )\n",
    "                bt.logging.debug(f\"Stored content hash: {synapse.content_hash}\")\n",
    "                bt.logging.debug(f\"Stored miner signature: {miner_signature}\")\n",
    "                bt.logging.debug(f\"Stored miner pubkey: {miner_pubkey}\")\n",
    "                stored = True\n",
    "                # Optimistically store (no need to send back the signature until verify step)\n",
    "            else:\n",
    "                # If it doesn't match, return an error. Attempted to store invalid content.\n",
    "                stored = False\n",
    "                raise SignatureMismatchError( \"Signature is not valid with provided pubkey!\" )\n",
    "        else:\n",
    "            # If it doesn't match, return an error.\n",
    "            stored = False\n",
    "            raise ContentHashMismatchError( \"Content hash mismatch, data tampered with!\" )\n",
    "    except SignatureMismatchError as e:\n",
    "        synapse.error_message = e\n",
    "    except ContentHashMismatchError as e:\n",
    "        synapse.error_message = e\n",
    "    except Exception as e:\n",
    "        synapse.error_message = \"Unknown error occured.\"\n",
    "    finally:\n",
    "        # return the filled synapse\n",
    "        synapse.stored = stored\n",
    "        return synapse\n",
    "\n",
    "def retrieve( synapse: protocol.Retrieve ) -> protocol.Retrieve:\n",
    "    registry_indices = synapse.registry_indices ^ len( self.registry ) % len( registry )\n",
    "    hashes = np.asarray(list(self.registry))\n",
    "    miner_data = {}\n",
    "    for index in registry_indices:\n",
    "        # Attempt to extract the hash from the registry (if it exists)\n",
    "        try:\n",
    "            hash_i = hashes[index]\n",
    "        except:\n",
    "            miner_data[ hash_i ] = ( None, None ) # not found in registry.\n",
    "            continue\n",
    "        # Retrive the miner signature and pubkey from the registry\n",
    "        miner_signature, miner_pubkey = self.registry[ hash_i ]\n",
    "        miner_data[ hash_i ] = ( miner_signature, miner_pubkey )\n",
    "    # Fill the synapse with the miner signatures and pubkeys\n",
    "    synapse.miner_data = miner_data\n",
    "    # return the filled synapse\n",
    "    return synapse"
   ]
  },
  {
   "cell_type": "code",
   "execution_count": 3,
   "metadata": {},
   "outputs": [
    {
     "name": "stderr",
     "output_type": "stream",
     "text": [
      "/home/jason/miniconda3/envs/rev/lib/python3.10/site-packages/pgpy/constants.py:192: CryptographyDeprecationWarning: IDEA has been deprecated\n",
      "  bs = {SymmetricKeyAlgorithm.IDEA: algorithms.IDEA,\n",
      "/home/jason/miniconda3/envs/rev/lib/python3.10/site-packages/pgpy/constants.py:194: CryptographyDeprecationWarning: CAST5 has been deprecated\n",
      "  SymmetricKeyAlgorithm.CAST5: algorithms.CAST5,\n",
      "/home/jason/miniconda3/envs/rev/lib/python3.10/site-packages/pgpy/constants.py:195: CryptographyDeprecationWarning: Blowfish has been deprecated\n",
      "  SymmetricKeyAlgorithm.Blowfish: algorithms.Blowfish,\n"
     ]
    },
    {
     "data": {
      "text/plain": [
       "Store(content='Hello, world!', content_hash='315f5bdb76d078c43b8ac0064e4a0164612b1fce77c869345bfc94c75894edd3', pubkey='-----BEGIN PGP PUBLIC KEY BLOCK-----\\n\\nxsFNBGUCfJYBEAC/yduqWBH9y/hoHQ+b6zNB17PrxGZ2ym1d3d6AiAvmK3EDQrOR\\nlRD+PH3wSzmLxC5jSVcyXaIDpunYTJ2QfpUAzBohihCOyzzFUvBc8pkxppa0tFzU\\nqVKWgHrni4x6sKcujeQGSB8EC2MpZ5c4Cj4osynmpo8zTlLkJyDhRpulKxK98lNK\\nJxhXq65k2inc0iixEw+nT8W1CfEwVCoalCaPPDUpcQsDZcTib+6gdXb4pGKPPkb/\\nR9h7k9RPTlP64RDNJQx5dkopUbDTZW8JdF0q8Qskfgm6C1M9O0b/rTua4JEUuZYS\\nqQwEm6/gPey6bcJ8TzqD3YtiPv8A7dxo91jCWGua5emgu9FevV36bcdxAdQ7TLqc\\nwkujw1yRTnvnTFbHpvVZdoZecJxNnyIN9IEHmu+9eQVctE9hORg/19hm0pamE7Hp\\ne+FfNPUDbP8T5qK+MTDpOQlq4WRm4t2zInZ53S/ZQfeXqQcL9kzVautY+DI8PIqx\\nJcWf59dpIrkJLubVaC4miQjc63SjuzRc7O8lwZEIPI2Pl/pUolXHk6dGA/y5+oY7\\nho6ad6s1EjVf5htsOlUXfLTeoXb3ikGkFlwAZktFsvWFgi46F8Airq06O0fxpL6n\\n6RFaBwC5rYVxv8DVvIXM1elHj/s7+mE+fWF0JPym5STditJhJFp105z9TQARAQAB\\nzRxUZXN0IFVzZXIgPHRlc3RAZXhhbXBsZS5jb20+wsGGBBMBCAAwBQJlAnyWAhsO\\nAwsJBwMVCAoEFgIBAAIeARYhBII46zJpfSNgsVtPHWqFpVrohPTXAAoJEGqFpVro\\nhPTXSPUQAIJlIa5Nei81gNFBWzdCMVhjnEUGS9YOwBzt8R2wGBGa/M1ro6jgs9bl\\n6m/xShJxhzyAAoch1/EApajm6bNoWhq72Cru71VEwwD6DMrvjmcNVId7hziXaTbg\\nJ0lJQb7QrzLPXNTJ+J0dGvecgU+YObW5sNbfmlQlCgYhOdX+w7+z1/i6qAHZNhrL\\neg9vMtNtTccuJ7xYU+W+WAPmc7eAvEtufRVy8LlSshmbwctiNN6IAMWJ179ajvW1\\n2fFVL+2jyOuxX0vrtvQ9u9ewkQMGBd8VA/65b6AoF+Jmkp050zr3VS4iE25Nn8Ij\\nbJ+U/Dwri3iFAWh+VtMycbsA3Oju+m0s27iatIJF4L19kowIan9icWuS9nfncJ+z\\noKdCl0seXEcQ8Ii2MJzO72ggYAn81tYTsgyKx/Q6ZeXZBtMyePd20HgyHreUZV+R\\n9HdgSe189eKEoC/zthY94Mr9mq6FffDZAdmujzdGbx5tWKKYPrwhjfWs8M8ueuOC\\nSQhMVvKqI8OQQHpNLLZusf39Ju456BexnrgY7ObzmWlCr2vQM97+e1asAo3BeEr2\\n77fdyMj+jEGM+cub+/HHc2wQKEPUfnq9JBKvc8hHq6uYQ0KURew+bkEKhlkq7H62\\nzjiU0UgDideE6Z1m7QDiM1/vMBHbP6mSrBwe1O5iE0wEbDEOBK5u\\n=eHAg\\n-----END PGP PUBLIC KEY BLOCK-----\\n', signature='-----BEGIN PGP SIGNED MESSAGE-----\\nHash: SHA256\\n\\nHello, world!\\n-----BEGIN PGP SIGNATURE-----\\n\\nwsFzBAEBCAAdBQJlAnyXFiEEgjjrMml9I2CxW08daoWlWuiE9NcACgkQaoWlWuiE\\n9NeJaRAArVYg9EfxW6tjX1NnSZ2tvlGAdzRQKiDeMgsMxclpHRqjhxUoRu4V5qkG\\n6EOmEEF7w02CsC5lyLgjh6HZoCq6ZgF+P/kHWBj6bPGaygGH/3PRGJK0EKMhxMka\\n/1ePsSjxCAZyQlyTudhomHVgDeG74XwT1a30fiKf/31yMU7WAOdoDySkuaZbt3He\\nYTLrCTtNeLAwwswgAyemB2xCeB3Dc9Smm9UpWOAqdWyEH8hA3q+rNh5FlduvLedE\\nFqyhN/X5DJaLwN0V9XmqXmXYjDAwYe3qPoCzl3jDmzIjgjXdDULgwrL5CUIFO6rw\\nDnOv0ZS/ouBmgdTk/2QTV+zi+3LyfS8eZoymZzLFtCDuamDueNGksxyOGgP6Hb14\\nK7s+/3+adowbHAI3ciwv0BjF0DiKdN/7bfSf67mTR60IbYaVhuFaUpWqgGRitqVq\\nv7/RIfOwFby34OWLpyEJNek2btDCzVypaZzqqOFPh94noCjhgFldGp76ofMJiLJ3\\nO5Axnl7cH6xZgssIvsL3c5iBFFQGd/MNbpUEgcxjwi6KlZVG9wxoCKVPhUuvfUYV\\npzM3C8BaNIrw+j6LaB7ij8MyhKSwNxXDZks8MKxbGGA6ODcyaEk+tmaWU7wzlZF9\\nPqLkUH09Ro3Hd5SG31z6a0ZFsUMIZYJS62l3MmWQChA9Q+2t6cI=\\n=Q5Tn\\n-----END PGP SIGNATURE-----\\n', stored=False)"
      ]
     },
     "execution_count": 3,
     "metadata": {},
     "output_type": "execute_result"
    }
   ],
   "source": [
    "content = \"Hello, world!\"\n",
    "signature, pubkey = cryptography.sign_content_with_new_keypair( content )\n",
    "content_hash = cryptography.hash( content )\n",
    "syn = protocol.Store( \n",
    "    content=content, content_hash=content_hash, pubkey=pubkey, signature=signature\n",
    ")\n",
    "syn"
   ]
  },
  {
   "cell_type": "code",
   "execution_count": 4,
   "metadata": {},
   "outputs": [
    {
     "data": {
      "text/plain": [
       "Axon([::], 9123, 5C86aJ2uQawR6P6veaJQXNK9HaWh6NMbUhTiLs65kq4ZW3NH, started, ['Synapse', 'Store', 'Retrieve'])"
      ]
     },
     "execution_count": 4,
     "metadata": {},
     "output_type": "execute_result"
    },
    {
     "name": "stderr",
     "output_type": "stream",
     "text": [
      "INFO:     Started server process [519863]\n",
      "INFO:     Waiting for application startup.\n",
      "TRACE:    ASGI [1] Started scope={'type': 'lifespan', 'asgi': {'version': '3.0', 'spec_version': '2.0'}, 'state': {}}\n",
      "TRACE:    ASGI [1] Receive {'type': 'lifespan.startup'}\n",
      "TRACE:    ASGI [1] Send {'type': 'lifespan.startup.complete'}\n",
      "INFO:     Application startup complete.\n",
      "INFO:     Uvicorn running on http://0.0.0.0:9123 (Press CTRL+C to quit)\n"
     ]
    }
   ],
   "source": [
    "import bittensor as bt\n",
    "bt.trace()\n",
    "axon = bt.axon( port=9123 )\n",
    "\n",
    "axon.attach(\n",
    "    forward_fn = store\n",
    ").attach(\n",
    "    forward_fn = retrieve\n",
    ")\n",
    "axon.start()"
   ]
  },
  {
   "cell_type": "code",
   "execution_count": 5,
   "metadata": {},
   "outputs": [
    {
     "name": "stdout",
     "output_type": "stream",
     "text": [
      "\u001b[34m2023-09-14 03:23:07.980\u001b[0m | \u001b[36m\u001b[1m     TRACE      \u001b[0m | Pre-process synapse for request\n"
     ]
    },
    {
     "name": "stdout",
     "output_type": "stream",
     "text": [
      "\u001b[34m2023-09-14 03:23:08.030\u001b[0m | \u001b[34m\u001b[1m     DEBUG      \u001b[0m | dendrite | --> | 6243 B | Store | 5C86aJ2uQawR6P6veaJQXNK9HaWh6NMbUhTiLs65kq4ZW3NH | 216.153.62.113:9123 | 0 | Success\n"
     ]
    },
    {
     "name": "stderr",
     "output_type": "stream",
     "text": [
      "TRACE:    127.0.0.1:42100 - HTTP connection made\n",
      "TRACE:    127.0.0.1:42100 - ASGI [2] Started scope={'type': 'http', 'asgi': {'version': '3.0', 'spec_version': '2.3'}, 'http_version': '1.1', 'server': ('127.0.0.1', 9123), 'client': ('127.0.0.1', 42100), 'scheme': 'http', 'method': 'POST', 'root_path': '', 'path': '/Store', 'raw_path': b'/Store', 'query_string': b'', 'headers': '<...>', 'state': {}}\n"
     ]
    },
    {
     "name": "stdout",
     "output_type": "stream",
     "text": [
      "\u001b[34m2023-09-14 03:23:08.042\u001b[0m | \u001b[34m\u001b[1m     DEBUG      \u001b[0m | axon     | <-- | 3464 B | Store | 5C86aJ2uQawR6P6veaJQXNK9HaWh6NMbUhTiLs65kq4ZW3NH | 127.0.0.1:42100 | 200 | Success \n",
      "\u001b[34m2023-09-14 03:23:08.042\u001b[0m | \u001b[36m\u001b[1m     TRACE      \u001b[0m | Check verification            \n"
     ]
    },
    {
     "name": "stderr",
     "output_type": "stream",
     "text": [
      "TRACE:    127.0.0.1:42100 - ASGI [2] Receive {'type': 'http.request', 'body': '<3464 bytes>', 'more_body': False}\n"
     ]
    },
    {
     "name": "stdout",
     "output_type": "stream",
     "text": [
      "\u001b[34m2023-09-14 03:23:08.095\u001b[0m | \u001b[36m\u001b[1m     TRACE      \u001b[0m | Check Blacklist               \n",
      "\u001b[34m2023-09-14 03:23:08.095\u001b[0m | \u001b[36m\u001b[1m     TRACE      \u001b[0m | Run priority                  \n",
      "\u001b[34m2023-09-14 03:23:08.095\u001b[0m | \u001b[36m\u001b[1m     TRACE      \u001b[0m | Run forward                   \n",
      "\u001b[34m2023-09-14 03:23:08.098\u001b[0m | \u001b[34m\u001b[1m     DEBUG      \u001b[0m | Synapse content: Hello, world!\n",
      "\u001b[34m2023-09-14 03:23:08.098\u001b[0m | \u001b[34m\u001b[1m     DEBUG      \u001b[0m | Synapse content hash: 315f5bdb76d078c43b8ac0064e4a0164612b1fce77c869345bfc94c75894edd3\n",
      "\u001b[34m2023-09-14 03:23:08.099\u001b[0m | \u001b[34m\u001b[1m     DEBUG      \u001b[0m | Local content hash: 315f5bdb76d078c43b8ac0064e4a0164612b1fce77c869345bfc94c75894edd3\n",
      "\u001b[34m2023-09-14 03:23:08.099\u001b[0m | \u001b[34m\u001b[1m     DEBUG      \u001b[0m | Local content hash matches synapse content hash.\n"
     ]
    },
    {
     "name": "stderr",
     "output_type": "stream",
     "text": [
      "/home/jason/miniconda3/envs/rev/lib/python3.10/site-packages/pgpy/pgp.py:2389: UserWarning: TODO: Self-sigs verification is not yet working because self-sigs are not parsed!!!\n",
      "  warnings.warn(\"TODO: Self-sigs verification is not yet working because self-sigs are not parsed!!!\")\n",
      "/home/jason/miniconda3/envs/rev/lib/python3.10/site-packages/pgpy/pgp.py:2406: UserWarning: TODO: Revocation checks are not yet implemented!!!\n",
      "  warnings.warn(\"TODO: Revocation checks are not yet implemented!!!\")\n",
      "/home/jason/miniconda3/envs/rev/lib/python3.10/site-packages/pgpy/pgp.py:2407: UserWarning: TODO: Flags (s.a. `disabled`) checks are not yet implemented!!!\n",
      "  warnings.warn(\"TODO: Flags (s.a. `disabled`) checks are not yet implemented!!!\")\n"
     ]
    },
    {
     "name": "stdout",
     "output_type": "stream",
     "text": [
      "\u001b[34m2023-09-14 03:23:09.601\u001b[0m | \u001b[36m\u001b[1m     TRACE      \u001b[0m | Fill successful response      \n",
      "\u001b[34m2023-09-14 03:23:09.608\u001b[0m | \u001b[36m\u001b[1m     TRACE      \u001b[0m | Finally                       \n"
     ]
    },
    {
     "name": "stderr",
     "output_type": "stream",
     "text": [
      "TRACE:    127.0.0.1:42100 - ASGI [2] Send {'type': 'http.response.start', 'status': 200, 'headers': '<...>'}\n"
     ]
    },
    {
     "name": "stdout",
     "output_type": "stream",
     "text": [
      "INFO:     127.0.0.1:42100 - \"POST /Store HTTP/1.1\" 200 OK\n",
      "\u001b[34m2023-09-14 03:23:09.608\u001b[0m | \u001b[34m\u001b[1m     DEBUG      \u001b[0m | axon     | --> | 3405 B | Store | 5C86aJ2uQawR6P6veaJQXNK9HaWh6NMbUhTiLs65kq4ZW3NH | 127.0.0.1:42100  | 200 | Success\n"
     ]
    },
    {
     "name": "stderr",
     "output_type": "stream",
     "text": [
      "TRACE:    127.0.0.1:42100 - ASGI [2] Send {'type': 'http.response.body', 'body': '<3405 bytes>', 'more_body': True}\n"
     ]
    },
    {
     "name": "stdout",
     "output_type": "stream",
     "text": [
      "\u001b[34m2023-09-14 03:23:09.612\u001b[0m | \u001b[36m\u001b[1m     TRACE      \u001b[0m | Non-streaming response detected.\n"
     ]
    },
    {
     "name": "stderr",
     "output_type": "stream",
     "text": [
      "TRACE:    127.0.0.1:42100 - ASGI [2] Send {'type': 'http.response.body', 'body': '<0 bytes>', 'more_body': False}\n",
      "TRACE:    127.0.0.1:42100 - ASGI [2] Receive {'type': 'http.disconnect'}\n"
     ]
    },
    {
     "name": "stdout",
     "output_type": "stream",
     "text": [
      "\u001b[34m2023-09-14 03:23:09.614\u001b[0m | \u001b[36m\u001b[1m     TRACE      \u001b[0m | Postprocess server response   \n"
     ]
    },
    {
     "name": "stderr",
     "output_type": "stream",
     "text": [
      "TRACE:    127.0.0.1:42100 - ASGI [2] Completed\n"
     ]
    },
    {
     "name": "stdout",
     "output_type": "stream",
     "text": [
      "\u001b[34m2023-09-14 03:23:09.615\u001b[0m | \u001b[34m\u001b[1m     DEBUG      \u001b[0m | dendrite | <-- | 6734 B | Store | 5C86aJ2uQawR6P6veaJQXNK9HaWh6NMbUhTiLs65kq4ZW3NH | 216.153.62.113:9123 | 200 | Success\n"
     ]
    },
    {
     "data": {
      "text/plain": [
       "Store(content='Hello, world!', content_hash='315f5bdb76d078c43b8ac0064e4a0164612b1fce77c869345bfc94c75894edd3', pubkey='-----BEGIN PGP PUBLIC KEY BLOCK-----\\n\\nxsFNBGUCfJYBEAC/yduqWBH9y/hoHQ+b6zNB17PrxGZ2ym1d3d6AiAvmK3EDQrOR\\nlRD+PH3wSzmLxC5jSVcyXaIDpunYTJ2QfpUAzBohihCOyzzFUvBc8pkxppa0tFzU\\nqVKWgHrni4x6sKcujeQGSB8EC2MpZ5c4Cj4osynmpo8zTlLkJyDhRpulKxK98lNK\\nJxhXq65k2inc0iixEw+nT8W1CfEwVCoalCaPPDUpcQsDZcTib+6gdXb4pGKPPkb/\\nR9h7k9RPTlP64RDNJQx5dkopUbDTZW8JdF0q8Qskfgm6C1M9O0b/rTua4JEUuZYS\\nqQwEm6/gPey6bcJ8TzqD3YtiPv8A7dxo91jCWGua5emgu9FevV36bcdxAdQ7TLqc\\nwkujw1yRTnvnTFbHpvVZdoZecJxNnyIN9IEHmu+9eQVctE9hORg/19hm0pamE7Hp\\ne+FfNPUDbP8T5qK+MTDpOQlq4WRm4t2zInZ53S/ZQfeXqQcL9kzVautY+DI8PIqx\\nJcWf59dpIrkJLubVaC4miQjc63SjuzRc7O8lwZEIPI2Pl/pUolXHk6dGA/y5+oY7\\nho6ad6s1EjVf5htsOlUXfLTeoXb3ikGkFlwAZktFsvWFgi46F8Airq06O0fxpL6n\\n6RFaBwC5rYVxv8DVvIXM1elHj/s7+mE+fWF0JPym5STditJhJFp105z9TQARAQAB\\nzRxUZXN0IFVzZXIgPHRlc3RAZXhhbXBsZS5jb20+wsGGBBMBCAAwBQJlAnyWAhsO\\nAwsJBwMVCAoEFgIBAAIeARYhBII46zJpfSNgsVtPHWqFpVrohPTXAAoJEGqFpVro\\nhPTXSPUQAIJlIa5Nei81gNFBWzdCMVhjnEUGS9YOwBzt8R2wGBGa/M1ro6jgs9bl\\n6m/xShJxhzyAAoch1/EApajm6bNoWhq72Cru71VEwwD6DMrvjmcNVId7hziXaTbg\\nJ0lJQb7QrzLPXNTJ+J0dGvecgU+YObW5sNbfmlQlCgYhOdX+w7+z1/i6qAHZNhrL\\neg9vMtNtTccuJ7xYU+W+WAPmc7eAvEtufRVy8LlSshmbwctiNN6IAMWJ179ajvW1\\n2fFVL+2jyOuxX0vrtvQ9u9ewkQMGBd8VA/65b6AoF+Jmkp050zr3VS4iE25Nn8Ij\\nbJ+U/Dwri3iFAWh+VtMycbsA3Oju+m0s27iatIJF4L19kowIan9icWuS9nfncJ+z\\noKdCl0seXEcQ8Ii2MJzO72ggYAn81tYTsgyKx/Q6ZeXZBtMyePd20HgyHreUZV+R\\n9HdgSe189eKEoC/zthY94Mr9mq6FffDZAdmujzdGbx5tWKKYPrwhjfWs8M8ueuOC\\nSQhMVvKqI8OQQHpNLLZusf39Ju456BexnrgY7ObzmWlCr2vQM97+e1asAo3BeEr2\\n77fdyMj+jEGM+cub+/HHc2wQKEPUfnq9JBKvc8hHq6uYQ0KURew+bkEKhlkq7H62\\nzjiU0UgDideE6Z1m7QDiM1/vMBHbP6mSrBwe1O5iE0wEbDEOBK5u\\n=eHAg\\n-----END PGP PUBLIC KEY BLOCK-----\\n', signature='-----BEGIN PGP SIGNED MESSAGE-----\\nHash: SHA256\\n\\nHello, world!\\n-----BEGIN PGP SIGNATURE-----\\n\\nwsFzBAEBCAAdBQJlAnyXFiEEgjjrMml9I2CxW08daoWlWuiE9NcACgkQaoWlWuiE\\n9NeJaRAArVYg9EfxW6tjX1NnSZ2tvlGAdzRQKiDeMgsMxclpHRqjhxUoRu4V5qkG\\n6EOmEEF7w02CsC5lyLgjh6HZoCq6ZgF+P/kHWBj6bPGaygGH/3PRGJK0EKMhxMka\\n/1ePsSjxCAZyQlyTudhomHVgDeG74XwT1a30fiKf/31yMU7WAOdoDySkuaZbt3He\\nYTLrCTtNeLAwwswgAyemB2xCeB3Dc9Smm9UpWOAqdWyEH8hA3q+rNh5FlduvLedE\\nFqyhN/X5DJaLwN0V9XmqXmXYjDAwYe3qPoCzl3jDmzIjgjXdDULgwrL5CUIFO6rw\\nDnOv0ZS/ouBmgdTk/2QTV+zi+3LyfS8eZoymZzLFtCDuamDueNGksxyOGgP6Hb14\\nK7s+/3+adowbHAI3ciwv0BjF0DiKdN/7bfSf67mTR60IbYaVhuFaUpWqgGRitqVq\\nv7/RIfOwFby34OWLpyEJNek2btDCzVypaZzqqOFPh94noCjhgFldGp76ofMJiLJ3\\nO5Axnl7cH6xZgssIvsL3c5iBFFQGd/MNbpUEgcxjwi6KlZVG9wxoCKVPhUuvfUYV\\npzM3C8BaNIrw+j6LaB7ij8MyhKSwNxXDZks8MKxbGGA6ODcyaEk+tmaWU7wzlZF9\\nPqLkUH09Ro3Hd5SG31z6a0ZFsUMIZYJS62l3MmWQChA9Q+2t6cI=\\n=Q5Tn\\n-----END PGP SIGNATURE-----\\n', stored=False)"
      ]
     },
     "execution_count": 5,
     "metadata": {},
     "output_type": "execute_result"
    },
    {
     "name": "stdout",
     "output_type": "stream",
     "text": [
      "\u001b[34m2023-09-14 03:23:09.615\u001b[0m | \u001b[34m\u001b[1m     DEBUG      \u001b[0m | dendrite | <-- | 6734 B | Store | 5C86aJ2uQawR6P6veaJQXNK9HaWh6NMbUhTiLs65kq4ZW3NH | 216.153.62.113:9123 | 200 | Success\n"
     ]
    },
    {
     "name": "stderr",
     "output_type": "stream",
     "text": [
      "TRACE:    127.0.0.1:42100 - HTTP connection lost\n"
     ]
    }
   ],
   "source": [
    "# Create a Dendrite instance to handle client-side communication.\n",
    "d = bt.dendrite()\n",
    "\n",
    "# Send a request to the Axon using the Dendrite, passing in a StreamPrompting instance with roles and messages.\n",
    "# The response is awaited, as the Dendrite communicates asynchronously with the Axon.\n",
    "resp = await d(\n",
    "    [axon],\n",
    "    syn\n",
    ")\n",
    "\n",
    "# The response object contains the result of the streaming operation.\n",
    "resp[0]"
   ]
  },
  {
   "cell_type": "code",
   "execution_count": 8,
   "metadata": {},
   "outputs": [
    {
     "data": {
      "text/plain": [
       "False"
      ]
     },
     "execution_count": 8,
     "metadata": {},
     "output_type": "execute_result"
    }
   ],
   "source": [
    "resp[0].stored"
   ]
  },
  {
   "cell_type": "code",
   "execution_count": 6,
   "metadata": {},
   "outputs": [
    {
     "name": "stderr",
     "output_type": "stream",
     "text": [
      "TRACE:    127.0.0.1:57658 - ASGI [2] Completed\n"
     ]
    },
    {
     "data": {
      "text/html": [
       "<pre style=\"white-space:pre;overflow-x:auto;line-height:normal;font-family:Menlo,'DejaVu Sans Mono',consolas,'Courier New',monospace\"><span style=\"color: #800000; text-decoration-color: #800000\">╭─────────────────────────────── </span><span style=\"color: #800000; text-decoration-color: #800000; font-weight: bold\">Traceback </span><span style=\"color: #bf7f7f; text-decoration-color: #bf7f7f; font-weight: bold\">(most recent call last)</span><span style=\"color: #800000; text-decoration-color: #800000\"> ────────────────────────────────╮</span>\n",
       "<span style=\"color: #800000; text-decoration-color: #800000\">│</span> in <span style=\"color: #00ff00; text-decoration-color: #00ff00\">&lt;module&gt;</span>:<span style=\"color: #0000ff; text-decoration-color: #0000ff\">1</span>                                                                                    <span style=\"color: #800000; text-decoration-color: #800000\">│</span>\n",
       "<span style=\"color: #800000; text-decoration-color: #800000\">│</span>                                                                                                  <span style=\"color: #800000; text-decoration-color: #800000\">│</span>\n",
       "<span style=\"color: #800000; text-decoration-color: #800000\">│</span> <span style=\"color: #800000; text-decoration-color: #800000\">❱ </span>1 ret = Retrieve(random_indices=[<span style=\"color: #0000ff; text-decoration-color: #0000ff\">0</span>])                                                           <span style=\"color: #800000; text-decoration-color: #800000\">│</span>\n",
       "<span style=\"color: #800000; text-decoration-color: #800000\">│</span>   <span style=\"color: #7f7f7f; text-decoration-color: #7f7f7f\">2 </span>ret                                                                                          <span style=\"color: #800000; text-decoration-color: #800000\">│</span>\n",
       "<span style=\"color: #800000; text-decoration-color: #800000\">│</span>   <span style=\"color: #7f7f7f; text-decoration-color: #7f7f7f\">3 </span>                                                                                             <span style=\"color: #800000; text-decoration-color: #800000\">│</span>\n",
       "<span style=\"color: #800000; text-decoration-color: #800000\">╰──────────────────────────────────────────────────────────────────────────────────────────────────╯</span>\n",
       "<span style=\"color: #ff0000; text-decoration-color: #ff0000; font-weight: bold\">NameError: </span>name <span style=\"color: #008000; text-decoration-color: #008000\">'Retrieve'</span> is not defined\n",
       "</pre>\n"
      ],
      "text/plain": [
       "\u001b[31m╭─\u001b[0m\u001b[31m──────────────────────────────\u001b[0m\u001b[31m \u001b[0m\u001b[1;31mTraceback \u001b[0m\u001b[1;2;31m(most recent call last)\u001b[0m\u001b[31m \u001b[0m\u001b[31m───────────────────────────────\u001b[0m\u001b[31m─╮\u001b[0m\n",
       "\u001b[31m│\u001b[0m in \u001b[92m<module>\u001b[0m:\u001b[94m1\u001b[0m                                                                                    \u001b[31m│\u001b[0m\n",
       "\u001b[31m│\u001b[0m                                                                                                  \u001b[31m│\u001b[0m\n",
       "\u001b[31m│\u001b[0m \u001b[31m❱ \u001b[0m1 ret = Retrieve(random_indices=[\u001b[94m0\u001b[0m])                                                           \u001b[31m│\u001b[0m\n",
       "\u001b[31m│\u001b[0m   \u001b[2m2 \u001b[0mret                                                                                          \u001b[31m│\u001b[0m\n",
       "\u001b[31m│\u001b[0m   \u001b[2m3 \u001b[0m                                                                                             \u001b[31m│\u001b[0m\n",
       "\u001b[31m╰──────────────────────────────────────────────────────────────────────────────────────────────────╯\u001b[0m\n",
       "\u001b[1;91mNameError: \u001b[0mname \u001b[32m'Retrieve'\u001b[0m is not defined\n"
      ]
     },
     "metadata": {},
     "output_type": "display_data"
    },
    {
     "name": "stderr",
     "output_type": "stream",
     "text": [
      "TRACE:    127.0.0.1:57658 - HTTP connection lost\n"
     ]
    }
   ],
   "source": [
    "ret = Retrieve(random_indices=[0])\n",
    "ret"
   ]
  }
 ],
 "metadata": {
  "kernelspec": {
   "display_name": "rev",
   "language": "python",
   "name": "python3"
  },
  "language_info": {
   "codemirror_mode": {
    "name": "ipython",
    "version": 3
   },
   "file_extension": ".py",
   "mimetype": "text/x-python",
   "name": "python",
   "nbconvert_exporter": "python",
   "pygments_lexer": "ipython3",
   "version": "3.10.12"
  },
  "orig_nbformat": 4
 },
 "nbformat": 4,
 "nbformat_minor": 2
}
