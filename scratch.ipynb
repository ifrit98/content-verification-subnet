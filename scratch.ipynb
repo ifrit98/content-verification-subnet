{
 "cells": [
  {
   "cell_type": "code",
   "execution_count": 5,
   "metadata": {},
   "outputs": [],
   "source": [
    "import typing\n",
    "import bittensor as bt\n",
    "import pydantic\n",
    "\n",
    "class Store(bt.Synapse):\n",
    "    class Config:\n",
    "        validate_assignment = True\n",
    "\n",
    "    def deserialize(self) -> str:\n",
    "        return self.zk_proof\n",
    "\n",
    "    # Query values\n",
    "    content: typing.Optional[object] = pydantic.Field(..., allow_mutation=False)\n",
    "    content_hash: str = pydantic.Field(..., allow_mutation=False)\n",
    "    pubkey: str = pydantic.Field(..., allow_mutation=False)\n",
    "    signature: str = pydantic.Field(..., allow_mutation=False)\n",
    "\n",
    "    # Return values\n",
    "    stored: typing.Optional[bool] = False \n",
    "    error_messgae: typing.Optional[str] = ''\n",
    "\n",
    "class Retrieve(bt.Synapse):\n",
    "    class Config:\n",
    "        validate_assignment = True\n",
    "\n",
    "    def deserialize(self) -> str:\n",
    "        return self.verified\n",
    "\n",
    "    # Query values\n",
    "    content_hash: str = pydantic.Field(..., allow_mutation=False)\n",
    "\n",
    "    # Return values\n",
    "    in_registry: typing.Optional[bool] = False\n",
    "    miner_signature: typing.Optional[str] = ''\n",
    "    miner_pubkey: typing.Optional[str] = ''"
   ]
  },
  {
   "cell_type": "code",
   "execution_count": 9,
   "metadata": {},
   "outputs": [],
   "source": [
    "import hashlib\n",
    "import secrets\n",
    "import pgpy\n",
    "from pgpy.constants import PubKeyAlgorithm, KeyFlags, HashAlgorithm, SymmetricKeyAlgorithm, CompressionAlgorithm\n",
    "\n",
    "def hash256(content: str) -> str:\n",
    "    return hashlib.sha256(content.encode()).hexdigest()\n",
    "\n",
    "def generate_password(seed, length=12):\n",
    "    # Convert the seed to string\n",
    "    seed_str = str(seed)\n",
    "    \n",
    "    # Hash the string representation using SHA-256\n",
    "    hashed = hashlib.sha256(seed_str.encode()).hexdigest()\n",
    "    \n",
    "    # Use the hash to generate a password\n",
    "    alphabet = \"abcdefghijklmnopqrstuvwxyzABCDEFGHIJKLMNOPQRSTUVWXYZ0123456789!@#$%^&*()-_=+\"\n",
    "    password = ''.join(secrets.choice(alphabet) for i in range(length))\n",
    "    \n",
    "    return password\n",
    "\n",
    "def sign_content_with_new_keypair(content: str, passphrase: str = None, seed: int = 1337) -> (str, str):\n",
    "    \"\"\"\n",
    "    Sign the content using the private key.\n",
    "\n",
    "    Args:\n",
    "    - content (str): The content to sign.\n",
    "    - passphrase (str): The passphrase for the private key.\n",
    "\n",
    "    Returns:\n",
    "    - tuple: The cleartext signature and the public key.\n",
    "    \"\"\"\n",
    "    # Generate a primary key\n",
    "    key = pgpy.PGPKey.new(PubKeyAlgorithm.RSAEncryptOrSign, 4096)\n",
    "\n",
    "    # Add a user ID to the key\n",
    "    uid = pgpy.PGPUID.new('Test User', email='test@example.com')\n",
    "    key.add_uid(uid, usage={KeyFlags.Sign, KeyFlags.EncryptCommunications, KeyFlags.EncryptStorage},\n",
    "                hashes=[HashAlgorithm.SHA256, HashAlgorithm.SHA512],\n",
    "                ciphers=[SymmetricKeyAlgorithm.AES256, SymmetricKeyAlgorithm.AES128],\n",
    "                compression=[CompressionAlgorithm.ZLIB, CompressionAlgorithm.ZIP, CompressionAlgorithm.Uncompressed])\n",
    "\n",
    "    # TODO: use a real passphrase and get it from the env variables or terminal input\n",
    "    # For not just generate a throw-away passphrase\n",
    "    if passphrase is None:\n",
    "        passphrase = generate_password(seed)\n",
    "\n",
    "    # Protect the key with the passphrase\n",
    "    key.protect(passphrase, SymmetricKeyAlgorithm.AES256, HashAlgorithm.SHA256)\n",
    "\n",
    "    # Unlock the key to sign data\n",
    "    with key.unlock(passphrase):\n",
    "        # Create a cleartext signature\n",
    "        cleartext_signature = pgpy.PGPMessage.new(content, cleartext=True)\n",
    "        cleartext_signature |= key.sign(cleartext_signature, hash=HashAlgorithm.SHA256)\n",
    "\n",
    "    return str(cleartext_signature), str(key.pubkey)\n",
    "\n",
    "def verify_pgpy_with_content(content: str, signature: str, pubkey: str) -> bool:\n",
    "    \"\"\"\n",
    "    Verify the cleartext signature of the content using the provided public key.\n",
    "\n",
    "    Args:\n",
    "    - signature (str): The cleartext signature string.\n",
    "    - content (str): The content string.\n",
    "    - pubkey (str): The public key string.\n",
    "\n",
    "    Returns:\n",
    "    - bool: True if the signature is valid, False otherwise.\n",
    "    \"\"\"\n",
    "    # Load the public key\n",
    "    public_key, _ = pgpy.PGPKey.from_blob(pubkey)\n",
    "\n",
    "    # Load the signature\n",
    "    signature_obj = pgpy.PGPSignature.from_blob(signature)\n",
    "\n",
    "    # Convert the content to bytes if it's not\n",
    "    if not isinstance(content, bytes):\n",
    "        content = content.encode('utf-8')\n",
    "\n",
    "    # Verify the signature using the content and public key\n",
    "    return public_key.verify(content, signature_obj)\n",
    "\n",
    "sign = sign_content_with_new_keypair\n",
    "verify = verify_pgpy_with_content\n",
    "hash = hash256\n"
   ]
  },
  {
   "cell_type": "code",
   "execution_count": null,
   "metadata": {},
   "outputs": [],
   "source": []
  },
  {
   "cell_type": "code",
   "execution_count": 10,
   "metadata": {},
   "outputs": [],
   "source": [
    "registry = {}\n",
    "\n",
    "class SignatureMismatchError(Exception):\n",
    "    pass\n",
    "\n",
    "class ContentHashMismatchError(Exception):\n",
    "    pass\n",
    "\n",
    "def store( synapse: Store ) -> Store:\n",
    "    try:\n",
    "        # Check content_hash against the content\n",
    "        local_content_hash = hash( synapse.content )\n",
    "        # If it matches, check the signature against the pubkey\n",
    "        if synapse.content_hash == local_content_hash:\n",
    "            if verify( synapse.content, synapse.signature, synapse.pubkey ):\n",
    "                # # If it matches, generate a signature of the content signed with the miner key\n",
    "                # store the content has as key and the (miner_signature, pubkey) pairs in the database\n",
    "                miner_signature, miner_pubkey = sign( synapse.content_hash )\n",
    "                registry[ synapse.content_hash ] = ( miner_signature, miner_pubkey )\n",
    "                stored = True\n",
    "                # Optimistically store (no need to send back the signature until verify step)\n",
    "            else:\n",
    "                # If it doesn't match, return an error. Attempted to store invalid content.\n",
    "                stored = False\n",
    "                raise SignatureMismatchError(\"Signature is not valid with provided pubkey!\")\n",
    "        else:\n",
    "            # If it doesn't match, return an error.\n",
    "            stored = False\n",
    "            raise ContentHashMismatchError(\"Content hash mismatch, data tampered with!\")\n",
    "    except SignatureMismatchError as e:\n",
    "        synapse.error_message = e\n",
    "    except ContentHashMismatchError as e:\n",
    "        synapse.error_message = e\n",
    "    except Exception as e:\n",
    "        synapse.error_message = \"Unknown error occured.\"\n",
    "    finally:\n",
    "        # return the filled synapse\n",
    "        synapse.stored = stored\n",
    "        return synapse"
   ]
  },
  {
   "cell_type": "code",
   "execution_count": 11,
   "metadata": {},
   "outputs": [
    {
     "name": "stderr",
     "output_type": "stream",
     "text": [
      "/home/jason/miniconda3/envs/rev/lib/python3.10/site-packages/pgpy/constants.py:192: CryptographyDeprecationWarning: IDEA has been deprecated\n",
      "  bs = {SymmetricKeyAlgorithm.IDEA: algorithms.IDEA,\n",
      "/home/jason/miniconda3/envs/rev/lib/python3.10/site-packages/pgpy/constants.py:194: CryptographyDeprecationWarning: CAST5 has been deprecated\n",
      "  SymmetricKeyAlgorithm.CAST5: algorithms.CAST5,\n",
      "/home/jason/miniconda3/envs/rev/lib/python3.10/site-packages/pgpy/constants.py:195: CryptographyDeprecationWarning: Blowfish has been deprecated\n",
      "  SymmetricKeyAlgorithm.Blowfish: algorithms.Blowfish,\n"
     ]
    }
   ],
   "source": [
    "content = \"This is some content\"\n",
    "content_hash = hash( content )\n",
    "signature, pubkey = sign_content_with_new_keypair( content )"
   ]
  },
  {
   "cell_type": "code",
   "execution_count": 12,
   "metadata": {},
   "outputs": [
    {
     "data": {
      "text/plain": [
       "Store(content='This is some content', content_hash='d68e560efbe6f20c31504b2fc1c6d3afa1f58b8ee293ad3311939a5fd5059a12', pubkey='-----BEGIN PGP PUBLIC KEY BLOCK-----\\n\\nxsFNBGT+Qs8BEACv60lvRSb+mGdEcDB8U8cuvtXF2ZrDEumf3ay4k3KS4ilr/J4c\\nqgk0NM7NeZ4/1EiPL4mifYuoPS4nFhLF3zgs34zow1K5Z1cQFbToNXXm7z5qsecX\\nbMgSzQTy7ha6zW2Vkzxaw6L5LgflP+gqKzmnNlstUP6ZtkAcsB+VbaeIprQnmcpD\\nkm6o+FswK5PUVrWORgWqpyam+GtUKd68huADR1qdHJ2odAO1ew53Xdsl14T9vbri\\nEmRArW6lTfp2734xHUgpP5Ki9QNoiKKdeYNEeuh8gEejt/uTQj5IxoAxdeRvmbZ9\\nQt27MkdZ4vPeLRRQmYebY27vIj3LVHiOVCaCQAq0vq2IP8jHbvygzPEEdnZgWaZm\\nN4e/jp4nWb8FrmWccfy7iA5Zk5fvjV9x3DvA+S8ejpRx6GgFsjeKP1jlsc13V1sN\\nGX3gTdgkdnJ5RpyzV19kmWiVJ1su1AOxeMqp2XKUbSgBT7ffUC3QNnOZ76bS1dxw\\niRMmxGYGnqmScLBiWJR/MKaJI0HB1wuLj+uCAFVR4oHRnfcYZQ/DOUMA+7pG5HE2\\nMjVSYLBS6pDo/8dQvXH5lRRU6fgYO2GkJFVxAGMiI81lr7dMpY9nUS8PAM8/Sesr\\nzyAYJYOhpoMGceO9oLADYCF7Z4LlUnlBmK7EAP/kEAeDSEy3oes5Q06UEwARAQAB\\nzRxUZXN0IFVzZXIgPHRlc3RAZXhhbXBsZS5jb20+wsGGBBMBCAAwBQJk/kLQAhsO\\nAwsJBwMVCAoEFgIBAAIeARYhBFaTNuY0KWcSB7ykpd4GZKXoJaBdAAoJEN4GZKXo\\nJaBdbOEP/3LtqdBFaXB2+WePZLosBw50E7CUoApTnC/Y324SyaBPcOVeI8ShMCwk\\nFClDgxHocOpnzGT1QgwE7FBKdSBEPIbLg9Axpornu5+l3qxadhPBJoQ8dBhQ9rOm\\nqQeVru3ZcLKErcq/pdHM6aj8HN0FBqqQa6HfoaZERFQUbz3GEHsv6UYxlsdHBwSE\\npiTWx/1hikoQKc4Iq1/jevoqAzmILPzonlL/UdgvdRPe7VN+7nI6HzBvfhyUPH3d\\nnoBj3eJ9s0J/qxJw8rDsw3mPLq0PGS4uoBTLYwpxf29uRx0DgGEQIlD/2tPGk8iL\\n5uvY40EA5Rg51EXdzLT22gAKguBVrg8754FvmWQlM3CIR25V6NYSqLW3N+nerr+B\\nwRxQlYHxG9dQZ5LQD4ughiAq71AyJcvHsMscyFr4tSuMW4ajUowO6sAZBg/oPgL/\\nXXkBE/e/vUOwpEldsbhFY5jIBTiSXRKeCxQqA2g6QFR+TAzgzXYjIOsHiyQoHK0F\\ntVahNTy3bv/tuWXKFbToWydNZFDzcnpjQWc0tlGeE5wdg8/qRLpyEp+hEwYW7Otu\\nC9PNdRaQDrnLUWf9vjpZkwVC3YHH4C9eMkil5U8HjlT5hQM1WTJwHpkddketUyqx\\n7YCMnlGvZjZvROArvIGe2JZbTl+L/A/vdZxM+lIZuK7+W4yJw2Oy\\n=+i7M\\n-----END PGP PUBLIC KEY BLOCK-----\\n', signature='-----BEGIN PGP SIGNED MESSAGE-----\\nHash: SHA256\\n\\nThis is some content\\n-----BEGIN PGP SIGNATURE-----\\n\\nwsFzBAEBCAAdBQJk/kLQFiEEVpM25jQpZxIHvKSl3gZkpegloF0ACgkQ3gZkpegl\\noF12xw//cb/vNHqLXJ3/W34sxL2FVljXrbnEOcY/8xD/pBeIz3k8uDhYstBWTAY/\\nnesZ60ah3vio4Jb9yIoj7D1NMA6AF+D2DAUZF/FEXIZSOx3CTcYR3mgDcdJG0lNO\\nj7OnKmnHVAj9k7x9iyWllGDQVFupsihzb9BtuZXo3tNxbQe7/t9LXKCv97angWIM\\niXjg6jEjouQFsDgwooScRONaIXjnxddbmHEJ2dyaLi+nJiyX18LkTr7qMYp3hmfR\\nWikwFwzE3AQm5S7e8KUqhN3qhXlhjiqymT58YsJzNPpk795cI11MlxQSVo+kYLyx\\nXawrVptNxd5aqa/8B1rcpnWlO+8oSZtvoWU1INmkIVLWdCi144tKEVB01dVzhS28\\n3bhio/v9dJJ64C06xAcMIUqhjXEfRmK5lmOQe8cG7m1la+RUDOu0I5/JOMmKrq8D\\n/0amUtTHcVA0IApq24FsPUjnIi/6m2ucShLXVechfT34en0hs1IhFr1YvZjS2W2X\\nOZ0vzSd+RteaEsUGrfmO6W1XDrTh4cG5hmGFzLuCkyBVlHr27QWtaTgZFAoFON5Q\\ngPlS+HiHnIPzT0l+AZNIei4K7f0z4Qf4X52WckUrOSHd0oEBhK0vYy/pTQqftJG7\\n/+dmUBoFJUpnfaUz8G25ETlFDa42jPzIPsLGrX4EVwnMmWk2+SY=\\n=7ojl\\n-----END PGP SIGNATURE-----\\n', stored=False, error_messgae='')"
      ]
     },
     "execution_count": 12,
     "metadata": {},
     "output_type": "execute_result"
    }
   ],
   "source": [
    "syn = Store(content=content, content_hash=content_hash, pubkey=pubkey, signature=signature)\n",
    "syn"
   ]
  },
  {
   "cell_type": "code",
   "execution_count": 13,
   "metadata": {},
   "outputs": [
    {
     "name": "stderr",
     "output_type": "stream",
     "text": [
      "/home/jason/miniconda3/envs/rev/lib/python3.10/site-packages/pgpy/pgp.py:2389: UserWarning: TODO: Self-sigs verification is not yet working because self-sigs are not parsed!!!\n",
      "  warnings.warn(\"TODO: Self-sigs verification is not yet working because self-sigs are not parsed!!!\")\n",
      "/home/jason/miniconda3/envs/rev/lib/python3.10/site-packages/pgpy/pgp.py:2406: UserWarning: TODO: Revocation checks are not yet implemented!!!\n",
      "  warnings.warn(\"TODO: Revocation checks are not yet implemented!!!\")\n",
      "/home/jason/miniconda3/envs/rev/lib/python3.10/site-packages/pgpy/pgp.py:2407: UserWarning: TODO: Flags (s.a. `disabled`) checks are not yet implemented!!!\n",
      "  warnings.warn(\"TODO: Flags (s.a. `disabled`) checks are not yet implemented!!!\")\n"
     ]
    },
    {
     "data": {
      "text/plain": [
       "Store(content='This is some content', content_hash='d68e560efbe6f20c31504b2fc1c6d3afa1f58b8ee293ad3311939a5fd5059a12', pubkey='-----BEGIN PGP PUBLIC KEY BLOCK-----\\n\\nxsFNBGT+Qs8BEACv60lvRSb+mGdEcDB8U8cuvtXF2ZrDEumf3ay4k3KS4ilr/J4c\\nqgk0NM7NeZ4/1EiPL4mifYuoPS4nFhLF3zgs34zow1K5Z1cQFbToNXXm7z5qsecX\\nbMgSzQTy7ha6zW2Vkzxaw6L5LgflP+gqKzmnNlstUP6ZtkAcsB+VbaeIprQnmcpD\\nkm6o+FswK5PUVrWORgWqpyam+GtUKd68huADR1qdHJ2odAO1ew53Xdsl14T9vbri\\nEmRArW6lTfp2734xHUgpP5Ki9QNoiKKdeYNEeuh8gEejt/uTQj5IxoAxdeRvmbZ9\\nQt27MkdZ4vPeLRRQmYebY27vIj3LVHiOVCaCQAq0vq2IP8jHbvygzPEEdnZgWaZm\\nN4e/jp4nWb8FrmWccfy7iA5Zk5fvjV9x3DvA+S8ejpRx6GgFsjeKP1jlsc13V1sN\\nGX3gTdgkdnJ5RpyzV19kmWiVJ1su1AOxeMqp2XKUbSgBT7ffUC3QNnOZ76bS1dxw\\niRMmxGYGnqmScLBiWJR/MKaJI0HB1wuLj+uCAFVR4oHRnfcYZQ/DOUMA+7pG5HE2\\nMjVSYLBS6pDo/8dQvXH5lRRU6fgYO2GkJFVxAGMiI81lr7dMpY9nUS8PAM8/Sesr\\nzyAYJYOhpoMGceO9oLADYCF7Z4LlUnlBmK7EAP/kEAeDSEy3oes5Q06UEwARAQAB\\nzRxUZXN0IFVzZXIgPHRlc3RAZXhhbXBsZS5jb20+wsGGBBMBCAAwBQJk/kLQAhsO\\nAwsJBwMVCAoEFgIBAAIeARYhBFaTNuY0KWcSB7ykpd4GZKXoJaBdAAoJEN4GZKXo\\nJaBdbOEP/3LtqdBFaXB2+WePZLosBw50E7CUoApTnC/Y324SyaBPcOVeI8ShMCwk\\nFClDgxHocOpnzGT1QgwE7FBKdSBEPIbLg9Axpornu5+l3qxadhPBJoQ8dBhQ9rOm\\nqQeVru3ZcLKErcq/pdHM6aj8HN0FBqqQa6HfoaZERFQUbz3GEHsv6UYxlsdHBwSE\\npiTWx/1hikoQKc4Iq1/jevoqAzmILPzonlL/UdgvdRPe7VN+7nI6HzBvfhyUPH3d\\nnoBj3eJ9s0J/qxJw8rDsw3mPLq0PGS4uoBTLYwpxf29uRx0DgGEQIlD/2tPGk8iL\\n5uvY40EA5Rg51EXdzLT22gAKguBVrg8754FvmWQlM3CIR25V6NYSqLW3N+nerr+B\\nwRxQlYHxG9dQZ5LQD4ughiAq71AyJcvHsMscyFr4tSuMW4ajUowO6sAZBg/oPgL/\\nXXkBE/e/vUOwpEldsbhFY5jIBTiSXRKeCxQqA2g6QFR+TAzgzXYjIOsHiyQoHK0F\\ntVahNTy3bv/tuWXKFbToWydNZFDzcnpjQWc0tlGeE5wdg8/qRLpyEp+hEwYW7Otu\\nC9PNdRaQDrnLUWf9vjpZkwVC3YHH4C9eMkil5U8HjlT5hQM1WTJwHpkddketUyqx\\n7YCMnlGvZjZvROArvIGe2JZbTl+L/A/vdZxM+lIZuK7+W4yJw2Oy\\n=+i7M\\n-----END PGP PUBLIC KEY BLOCK-----\\n', signature='-----BEGIN PGP SIGNED MESSAGE-----\\nHash: SHA256\\n\\nThis is some content\\n-----BEGIN PGP SIGNATURE-----\\n\\nwsFzBAEBCAAdBQJk/kLQFiEEVpM25jQpZxIHvKSl3gZkpegloF0ACgkQ3gZkpegl\\noF12xw//cb/vNHqLXJ3/W34sxL2FVljXrbnEOcY/8xD/pBeIz3k8uDhYstBWTAY/\\nnesZ60ah3vio4Jb9yIoj7D1NMA6AF+D2DAUZF/FEXIZSOx3CTcYR3mgDcdJG0lNO\\nj7OnKmnHVAj9k7x9iyWllGDQVFupsihzb9BtuZXo3tNxbQe7/t9LXKCv97angWIM\\niXjg6jEjouQFsDgwooScRONaIXjnxddbmHEJ2dyaLi+nJiyX18LkTr7qMYp3hmfR\\nWikwFwzE3AQm5S7e8KUqhN3qhXlhjiqymT58YsJzNPpk795cI11MlxQSVo+kYLyx\\nXawrVptNxd5aqa/8B1rcpnWlO+8oSZtvoWU1INmkIVLWdCi144tKEVB01dVzhS28\\n3bhio/v9dJJ64C06xAcMIUqhjXEfRmK5lmOQe8cG7m1la+RUDOu0I5/JOMmKrq8D\\n/0amUtTHcVA0IApq24FsPUjnIi/6m2ucShLXVechfT34en0hs1IhFr1YvZjS2W2X\\nOZ0vzSd+RteaEsUGrfmO6W1XDrTh4cG5hmGFzLuCkyBVlHr27QWtaTgZFAoFON5Q\\ngPlS+HiHnIPzT0l+AZNIei4K7f0z4Qf4X52WckUrOSHd0oEBhK0vYy/pTQqftJG7\\n/+dmUBoFJUpnfaUz8G25ETlFDa42jPzIPsLGrX4EVwnMmWk2+SY=\\n=7ojl\\n-----END PGP SIGNATURE-----\\n', stored=True, error_messgae='')"
      ]
     },
     "execution_count": 13,
     "metadata": {},
     "output_type": "execute_result"
    }
   ],
   "source": [
    "filled_syn = store( syn )\n",
    "filled_syn"
   ]
  },
  {
   "cell_type": "code",
   "execution_count": 27,
   "metadata": {},
   "outputs": [
    {
     "name": "stderr",
     "output_type": "stream",
     "text": [
      "/home/jason/miniconda3/envs/rev/lib/python3.10/site-packages/pgpy/constants.py:192: CryptographyDeprecationWarning: IDEA has been deprecated\n",
      "  bs = {SymmetricKeyAlgorithm.IDEA: algorithms.IDEA,\n",
      "/home/jason/miniconda3/envs/rev/lib/python3.10/site-packages/pgpy/constants.py:194: CryptographyDeprecationWarning: CAST5 has been deprecated\n",
      "  SymmetricKeyAlgorithm.CAST5: algorithms.CAST5,\n",
      "/home/jason/miniconda3/envs/rev/lib/python3.10/site-packages/pgpy/constants.py:195: CryptographyDeprecationWarning: Blowfish has been deprecated\n",
      "  SymmetricKeyAlgorithm.Blowfish: algorithms.Blowfish,\n"
     ]
    },
    {
     "data": {
      "text/plain": [
       "Store(content='This is some extra content', content_hash='ee2ebb1b9ddd4bb04ed6e5345ea9592579364ae7f89d853327ebab6f70832c1e', pubkey='-----BEGIN PGP PUBLIC KEY BLOCK-----\\n\\nxsFNBGT+Q0IBEACMmX/xIvlF+6oFmbYhQe3SUYD4SlJQ/mVaEtYLuLsHa0Wl0uSd\\nfWpM1umyhw9VtS6U8IdTnT9YFHne8yw8wfQbcd39WgzD84S7Z4BRY3zb63BHDyPO\\nphaKbEf7kVFzD1Ognfd/YJWdmoBVChNe71GMZdt9qYMY17Yfa6OMnNgS/o+3amKv\\nVUrZGOnJNWyhKaJDqU8qW/QlSddGOZ2cDULStsLQO6VwtUMq7E7ZChDXKBhWTv/y\\n9RISZ9KkU5onyXP8PT/q8R+DNsXRI+iamdGKzIEgjJJhHPQwuKX5o0/p6Q3bCqlr\\nqU2jC86BM9CFQ00wDS3hS92xFmuh9+1CxnbyguJTh+YqD9BDN8kEvK7a/UVrq5vu\\n9RnUXkXBetUvTyOu5op7zFH8HBQb9VZSPnY2uB3qVgaprnSv9kylS1Osc1V8hEbd\\nUsVAzqE+tjP9JFTRSg7DEVWtdNitzEUZKua1kgwyvYF2AsAhjd1YlaTEDxKwHfLX\\nGb6Usn9kwhX+pblKl8T45fcOmQWyhR/JqahZVzQxJPtKfKBCtaOligOvr89jIiOT\\nWxw5w6dIheKMWY/9GgKsGK+f5KpgzRbky7wVEU8Ai4WdWwGii/6GyZ8QVtowyLHD\\nkxPFqCL4/rQQIJTYQa4F6gY7daLIKcEqWBGVBTF3qfxFJjB/qPe14FEtTQARAQAB\\nzRxUZXN0IFVzZXIgPHRlc3RAZXhhbXBsZS5jb20+wsGGBBMBCAAwBQJk/kNDAhsO\\nAwsJBwMVCAoEFgIBAAIeARYhBP8r1pMGGbV8K+aIXD4zxCnk14UJAAoJED4zxCnk\\n14UJpOQP/3cp1J1NbGUf+cZf1qEBuevAb7NXzC2KKMg0OIkGfsn+vQVPkUBrOLlL\\nzve0YdQxxGG4LxW3q7/TykNxblX/KAW7FYDgtOQPcCiQ7MYTVRPOKQ9i3aGmkVCk\\n2IWNBbOq9LaPxfqTECcyIiZuFcqzvk1WhGEHoqlMPmTvvuDyrk2N3hBrt3+whQjh\\n3b593DyE2+Ov+bO8foYNHcoI/jez1r3s7eK566rzjQN/yM0P3vNIeIpVn2cUmn2d\\n3ICeGFD4DrsWECzce1pVg3X6n84l/AKLsMxJPLa2KxGnJMj6h44Iy+R0luzgAyn6\\nKCb2lU17kUuiywCerjaNdXXM7UJK/k2vBA9s80/WvyFkZITgC8iwbr6Jj+GwEN0t\\n+fSgIArPIY6RjdJ95CRHdZZ0qdmuLfdOVTTj/cCudqWb3uulF5scOGOLP/i/Wv7P\\nncWM7NdjyR+wsbjnhRKYSPMpRf19hUoNm5zK6ESwv6bsLhxi6bGpk9bbUkDCXtSH\\nQNA7kAFMOXimTC6ojkG3TCVb8t23EvlYOyODu7C5PZV1VZAjMLBsAnaA55pPF5lC\\ne/ZpIgqFQ7tGW7RKquv9Xcz/dD7xSH4YTQw0MWukbhXRW42uBe3V+K1ATtx8/kgo\\nbxVAG7J984kdGdBQGaBoCTkP5Gn2Y1pj6bx9lAIWh1v7ghUxql9Q\\n=6OLC\\n-----END PGP PUBLIC KEY BLOCK-----\\n', signature='-----BEGIN PGP SIGNED MESSAGE-----\\nHash: SHA256\\n\\nThis is some extra content\\n-----BEGIN PGP SIGNATURE-----\\n\\nwsFzBAEBCAAdBQJk/kNDFiEE/yvWkwYZtXwr5ohcPjPEKeTXhQkACgkQPjPEKeTX\\nhQnpCA//YY8Fqx/3hv0weVlxysu751tA/PWfXyYQqLLRU+K9BRkWKQ4vfJ3rrF57\\nb8P4SvUb7ZH4HWuCu9zsnyKrTDm0F4NL2sNmd+/NCVNhY+uU5yN1lh4nHWMnut1j\\nLqjsWg8s42XKmyJe8TivOUWN/7XworTrDOaW82hjONiSgxm4C1GBNMFAVB/pTPFF\\nHosEMrY3ssplreWx/gqlabKFz8LESULy/cjkJb4wpqK8BHUMl02wirzZvCqPN6Ka\\nsQRdAxuwj086uGDhgNoqUxQv8bRTb9OCnMwTFxl/dP3bbPDssvo5WT6nRjB9XF97\\noGv/riHmnxf5G/a4JHJlUTprQtZUhMeba1kL+RYzQVNf1Vx4Frbl99MDr1Rbuh90\\n6jEcWzNNXGGqmsUqKSq6JE2lncktxeeqtDhQk7JXm+sNL9bn6POLm+KXv1MAtWYX\\nSHgEQJ6ZHGn8+waSnJ+QfS+ZzidGlEQ0BlgPOmDZYvLvjmyeFR2FOKJv9//eRVRe\\nC2arOVsF2MFR9BIDZooKQdhhzwuaMq3xq6r6hjV5TFZA92zkPLgZAJns44LfyYfx\\n/+bnh6Mq/wjbrf0weSsQnbcpwXM9VeHLprgQLLgheDvaQEsV0GMArF8luxg9dIfo\\nIoBSgFFGd73qEVkSVUpHwejc17XWPX2JVVYA+UCOgX/PY0slJLs=\\n=oYdM\\n-----END PGP SIGNATURE-----\\n', stored=False, error_messgae='')"
      ]
     },
     "execution_count": 27,
     "metadata": {},
     "output_type": "execute_result"
    }
   ],
   "source": [
    "# Store another\n",
    "content = \"This is some extra content\"\n",
    "content_hash = hash( content )\n",
    "signature, pubkey = sign_content_with_new_keypair( content )\n",
    "\n",
    "syn2 = Store(content=content, content_hash=content_hash, pubkey=pubkey, signature=signature)\n",
    "syn2"
   ]
  },
  {
   "cell_type": "code",
   "execution_count": 28,
   "metadata": {},
   "outputs": [
    {
     "name": "stderr",
     "output_type": "stream",
     "text": [
      "/home/jason/miniconda3/envs/rev/lib/python3.10/site-packages/pgpy/pgp.py:2389: UserWarning: TODO: Self-sigs verification is not yet working because self-sigs are not parsed!!!\n",
      "  warnings.warn(\"TODO: Self-sigs verification is not yet working because self-sigs are not parsed!!!\")\n",
      "/home/jason/miniconda3/envs/rev/lib/python3.10/site-packages/pgpy/pgp.py:2406: UserWarning: TODO: Revocation checks are not yet implemented!!!\n",
      "  warnings.warn(\"TODO: Revocation checks are not yet implemented!!!\")\n",
      "/home/jason/miniconda3/envs/rev/lib/python3.10/site-packages/pgpy/pgp.py:2407: UserWarning: TODO: Flags (s.a. `disabled`) checks are not yet implemented!!!\n",
      "  warnings.warn(\"TODO: Flags (s.a. `disabled`) checks are not yet implemented!!!\")\n",
      "/home/jason/miniconda3/envs/rev/lib/python3.10/site-packages/pgpy/constants.py:192: CryptographyDeprecationWarning: IDEA has been deprecated\n",
      "  bs = {SymmetricKeyAlgorithm.IDEA: algorithms.IDEA,\n",
      "/home/jason/miniconda3/envs/rev/lib/python3.10/site-packages/pgpy/constants.py:194: CryptographyDeprecationWarning: CAST5 has been deprecated\n",
      "  SymmetricKeyAlgorithm.CAST5: algorithms.CAST5,\n",
      "/home/jason/miniconda3/envs/rev/lib/python3.10/site-packages/pgpy/constants.py:195: CryptographyDeprecationWarning: Blowfish has been deprecated\n",
      "  SymmetricKeyAlgorithm.Blowfish: algorithms.Blowfish,\n"
     ]
    },
    {
     "data": {
      "text/plain": [
       "Store(content='This is some extra content', content_hash='ee2ebb1b9ddd4bb04ed6e5345ea9592579364ae7f89d853327ebab6f70832c1e', pubkey='-----BEGIN PGP PUBLIC KEY BLOCK-----\\n\\nxsFNBGT+Q0IBEACMmX/xIvlF+6oFmbYhQe3SUYD4SlJQ/mVaEtYLuLsHa0Wl0uSd\\nfWpM1umyhw9VtS6U8IdTnT9YFHne8yw8wfQbcd39WgzD84S7Z4BRY3zb63BHDyPO\\nphaKbEf7kVFzD1Ognfd/YJWdmoBVChNe71GMZdt9qYMY17Yfa6OMnNgS/o+3amKv\\nVUrZGOnJNWyhKaJDqU8qW/QlSddGOZ2cDULStsLQO6VwtUMq7E7ZChDXKBhWTv/y\\n9RISZ9KkU5onyXP8PT/q8R+DNsXRI+iamdGKzIEgjJJhHPQwuKX5o0/p6Q3bCqlr\\nqU2jC86BM9CFQ00wDS3hS92xFmuh9+1CxnbyguJTh+YqD9BDN8kEvK7a/UVrq5vu\\n9RnUXkXBetUvTyOu5op7zFH8HBQb9VZSPnY2uB3qVgaprnSv9kylS1Osc1V8hEbd\\nUsVAzqE+tjP9JFTRSg7DEVWtdNitzEUZKua1kgwyvYF2AsAhjd1YlaTEDxKwHfLX\\nGb6Usn9kwhX+pblKl8T45fcOmQWyhR/JqahZVzQxJPtKfKBCtaOligOvr89jIiOT\\nWxw5w6dIheKMWY/9GgKsGK+f5KpgzRbky7wVEU8Ai4WdWwGii/6GyZ8QVtowyLHD\\nkxPFqCL4/rQQIJTYQa4F6gY7daLIKcEqWBGVBTF3qfxFJjB/qPe14FEtTQARAQAB\\nzRxUZXN0IFVzZXIgPHRlc3RAZXhhbXBsZS5jb20+wsGGBBMBCAAwBQJk/kNDAhsO\\nAwsJBwMVCAoEFgIBAAIeARYhBP8r1pMGGbV8K+aIXD4zxCnk14UJAAoJED4zxCnk\\n14UJpOQP/3cp1J1NbGUf+cZf1qEBuevAb7NXzC2KKMg0OIkGfsn+vQVPkUBrOLlL\\nzve0YdQxxGG4LxW3q7/TykNxblX/KAW7FYDgtOQPcCiQ7MYTVRPOKQ9i3aGmkVCk\\n2IWNBbOq9LaPxfqTECcyIiZuFcqzvk1WhGEHoqlMPmTvvuDyrk2N3hBrt3+whQjh\\n3b593DyE2+Ov+bO8foYNHcoI/jez1r3s7eK566rzjQN/yM0P3vNIeIpVn2cUmn2d\\n3ICeGFD4DrsWECzce1pVg3X6n84l/AKLsMxJPLa2KxGnJMj6h44Iy+R0luzgAyn6\\nKCb2lU17kUuiywCerjaNdXXM7UJK/k2vBA9s80/WvyFkZITgC8iwbr6Jj+GwEN0t\\n+fSgIArPIY6RjdJ95CRHdZZ0qdmuLfdOVTTj/cCudqWb3uulF5scOGOLP/i/Wv7P\\nncWM7NdjyR+wsbjnhRKYSPMpRf19hUoNm5zK6ESwv6bsLhxi6bGpk9bbUkDCXtSH\\nQNA7kAFMOXimTC6ojkG3TCVb8t23EvlYOyODu7C5PZV1VZAjMLBsAnaA55pPF5lC\\ne/ZpIgqFQ7tGW7RKquv9Xcz/dD7xSH4YTQw0MWukbhXRW42uBe3V+K1ATtx8/kgo\\nbxVAG7J984kdGdBQGaBoCTkP5Gn2Y1pj6bx9lAIWh1v7ghUxql9Q\\n=6OLC\\n-----END PGP PUBLIC KEY BLOCK-----\\n', signature='-----BEGIN PGP SIGNED MESSAGE-----\\nHash: SHA256\\n\\nThis is some extra content\\n-----BEGIN PGP SIGNATURE-----\\n\\nwsFzBAEBCAAdBQJk/kNDFiEE/yvWkwYZtXwr5ohcPjPEKeTXhQkACgkQPjPEKeTX\\nhQnpCA//YY8Fqx/3hv0weVlxysu751tA/PWfXyYQqLLRU+K9BRkWKQ4vfJ3rrF57\\nb8P4SvUb7ZH4HWuCu9zsnyKrTDm0F4NL2sNmd+/NCVNhY+uU5yN1lh4nHWMnut1j\\nLqjsWg8s42XKmyJe8TivOUWN/7XworTrDOaW82hjONiSgxm4C1GBNMFAVB/pTPFF\\nHosEMrY3ssplreWx/gqlabKFz8LESULy/cjkJb4wpqK8BHUMl02wirzZvCqPN6Ka\\nsQRdAxuwj086uGDhgNoqUxQv8bRTb9OCnMwTFxl/dP3bbPDssvo5WT6nRjB9XF97\\noGv/riHmnxf5G/a4JHJlUTprQtZUhMeba1kL+RYzQVNf1Vx4Frbl99MDr1Rbuh90\\n6jEcWzNNXGGqmsUqKSq6JE2lncktxeeqtDhQk7JXm+sNL9bn6POLm+KXv1MAtWYX\\nSHgEQJ6ZHGn8+waSnJ+QfS+ZzidGlEQ0BlgPOmDZYvLvjmyeFR2FOKJv9//eRVRe\\nC2arOVsF2MFR9BIDZooKQdhhzwuaMq3xq6r6hjV5TFZA92zkPLgZAJns44LfyYfx\\n/+bnh6Mq/wjbrf0weSsQnbcpwXM9VeHLprgQLLgheDvaQEsV0GMArF8luxg9dIfo\\nIoBSgFFGd73qEVkSVUpHwejc17XWPX2JVVYA+UCOgX/PY0slJLs=\\n=oYdM\\n-----END PGP SIGNATURE-----\\n', stored=True, error_messgae='')"
      ]
     },
     "execution_count": 28,
     "metadata": {},
     "output_type": "execute_result"
    }
   ],
   "source": [
    "filled_syn2 = store( syn2 )\n",
    "filled_syn2"
   ]
  },
  {
   "cell_type": "code",
   "execution_count": 29,
   "metadata": {},
   "outputs": [],
   "source": [
    "# Validator must check the signature against the pubkey from miner\n",
    "def retrieve( synapse: Retrieve ) -> Retrieve:\n",
    "    if synapse.content_hash in registry:\n",
    "        # If the content has is in the database, check the signature against the pubkey\n",
    "        miner_signature, miner_pubkey = registry[ synapse.content_hash ]\n",
    "        in_registry = True\n",
    "    else:\n",
    "        # If it isn't, return \n",
    "        miner_signature = None\n",
    "        miner_pubkey = None\n",
    "        in_registry = False\n",
    "    # Fill values\n",
    "    # TODO: Validator will use this to verify after receiving the filled synapse\n",
    "    synapse.miner_signature = miner_signature\n",
    "    synapse.miner_pubkey = miner_pubkey\n",
    "    synapse.in_registry = in_registry\n",
    "    # return the filled synapse\n",
    "    return synapse\n"
   ]
  },
  {
   "cell_type": "code",
   "execution_count": 30,
   "metadata": {},
   "outputs": [
    {
     "data": {
      "text/plain": [
       "Retrieve(content_hash='ee2ebb1b9ddd4bb04ed6e5345ea9592579364ae7f89d853327ebab6f70832c1e', in_registry=False, miner_signature='', miner_pubkey='')"
      ]
     },
     "execution_count": 30,
     "metadata": {},
     "output_type": "execute_result"
    }
   ],
   "source": [
    "syn = Retrieve(content_hash=content_hash)\n",
    "syn"
   ]
  },
  {
   "cell_type": "code",
   "execution_count": 31,
   "metadata": {},
   "outputs": [
    {
     "data": {
      "text/plain": [
       "Retrieve(content_hash='ee2ebb1b9ddd4bb04ed6e5345ea9592579364ae7f89d853327ebab6f70832c1e', in_registry=True, miner_signature='-----BEGIN PGP SIGNED MESSAGE-----\\nHash: SHA256\\n\\nee2ebb1b9ddd4bb04ed6e5345ea9592579364ae7f89d853327ebab6f70832c1e\\n-----BEGIN PGP SIGNATURE-----\\n\\nwsFzBAEBCAAdBQJk/kNTFiEEuqCM0takNwD/+XhhpSlcdBaYPJUACgkQpSlcdBaY\\nPJVefBAAqcTodSLyEX5cSGRFqwD2QifCECXM3ZzMpTfxVUwV0hTc2LvIwdky4+0B\\nCKpKFfuj84p+CZSLD8LQjNX6BYShu6zZdf8Umid8MCYhYLjDBrli57S9NwBiLrxa\\ndd+Sfbuy9W0WkPMjXepLVHfzUmQw7iwJfp4ysGFdKaTlgMhPbfRvITwODHwWqYEw\\ntCbvvpS/oWMp/UBOXGFQEMCIg6VtUq3/kT1hXeikSw9G4Lr7bnR8APMiDV234XrV\\nunSSzc3DPeonYe/ivhej9I8GVPSKSekmhxPbfwn/Cf1OHMnlT/MkiQSu1RE/DuRU\\nlkVFoqh7m/aedWgWoTFS2YOHEQ+HrNccAIKToN1dIbAZJcFi+2UmA7hBAFLjuFml\\nFhzQckpxFnHqEQyzmEUN6KQFWOUuzH/uCIwwbZUn9PiPnaUnXgdZbgtFj4d3ceM5\\nfmZiicxEN6xNwqJtD/1s/nYjQVdwUU9ET5nPyPRMrKdAlggn7yRSEhtGDFDaGqaf\\nbB3ELXyZpQmM6M8gAx0BnbEbtXQTZmxNW0wZReu71j3/xz4lAaJ4G4cBqe0XTTcd\\n3jfe7vOzfX5Asf4UsN4+LosRvW+YqOKVtIUANATiYUGJI4pySeoj19IQj98hsBKY\\noTgnn9R1urRWgPTx9EmHO2DrsrHdnG1VaJ1AYZu0km45UUZjco0=\\n=uQjq\\n-----END PGP SIGNATURE-----\\n', miner_pubkey='-----BEGIN PGP PUBLIC KEY BLOCK-----\\n\\nxsFNBGT+Q1IBEADDOhTlxhmY4hnBOy/SugAyOcUYpwGcolqpiBZMK7FOcqmqOP0Q\\nHr6iuUFN/jyARvNIScs9eCvw/aLNp6lbqigraBLkc9zXGv73MxgwWiWnKD4nhUyp\\nlc5qhln3t8cOIV4bd7eb+dQxzPg1XRryQ3UX28ZnAmsoUKftdajF1WvvAu+auMwv\\nrSo0klbxjECRu8xioNuAoEua8hb6CQ/l9XRW1q9OZYd2OUyWzqIQgsk7yYcBeW2h\\ni9EzqTsTuDNoMNrjKUwR0GImsJXYQxIKPmh1HzyyUo6F7Iqvd8njsWoC3+c7QaX7\\nwDBCkkZsALmVjf9pCE0xYpf2/dxFt+fv6UrU9IfKtZtVvBl379jAbq6mVwarNRC3\\nZwS9U+eU6GWIgGQUFFF94G3ewp/KHzysfA3Vxu64UosvyVvNrzJKTlerNiujo/8/\\nuie5m37A+BAUSBt/Qxpu5lWDBWcaHFw0JxBkhoI+GV+A83F9nyuxjJAx2pqoNi/w\\n142/Nm4GYXQn5t5L49XPMzrbVHTTOVfpil11I68MmovTlCTG0rNoDBEaZy5xV7gt\\nnpwH2UvqmTX3Ir/Ksi1P0zg/ksbtK2MWezQszSWpWZo9PuTcZrmLokgI/qQbmHGw\\n0y8tym8Fw4c2L9OM9HG/knRfJcxxUEQRZDAHFDBjGwCtpcUZ9NLlTuyqgQARAQAB\\nzRxUZXN0IFVzZXIgPHRlc3RAZXhhbXBsZS5jb20+wsGGBBMBCAAwBQJk/kNSAhsO\\nAwsJBwMVCAoEFgIBAAIeARYhBLqgjNLWpDcA//l4YaUpXHQWmDyVAAoJEKUpXHQW\\nmDyVwK4P/3PgsRNp7SXpnw4QI5+KcQhOCfkxhIc8wNMmykx0cGTSTt9C1E85ft18\\n6eDG2ZANZpAEagv92IMHPk8vN3EoN5HJNbM++++WzpVpL1y50h/Ee5/U4BTjZ0PE\\nHmpxK3AydH+KorDvXQWydUioX7AF5dtQtEeQxAb9KBS+A2X3Bq1dlfTZ6F3jfh1M\\nnsZDL78a4yMTfddjw00oKGLKaW6qXIy1Ybx2sA0WZ+tdvQiRWexX83EX31wt3FYx\\nKUrOhqP+820Oyvg+DR72G0TrJgSzE1T/fTzVceAUtC5/6bWdZ5jWyxhIEPcIxByF\\nIGc+dN3zFsFrbb2O2X8lJsnsm2oIpUKR90QIxbp5wWEyTTFlW1WQOc9keAWD3vX2\\nFPG3xNo+Es57/Cx5FD5iErJHx2O/5rFP78WopgcM2TYtHe3VQ8ieAPRwfAIsJ/26\\nYABpuwDEewzu8lKYZR8GKzsFZtY5F6B5ROBMKcyNP/zB2wmXBmhFJcf9fzBZp9kO\\nhZeicgQo7Y7i8+62oC6PLw1YnXjRa1/oFXYhpBt1lfHt+jpsFf0IpF3ZZnMIj7DA\\nn2eE8E9zxnHkcxFAYUcct+ckMuwkRrCsx3gJf7A1egJ920is1cnMAItiahT63nlJ\\nAkEVVbJNCKwYbEU05ABf53BTV6AmqSwNoLT3L3OrkMDjgV6O0Atu\\n=PfJs\\n-----END PGP PUBLIC KEY BLOCK-----\\n')"
      ]
     },
     "execution_count": 31,
     "metadata": {},
     "output_type": "execute_result"
    }
   ],
   "source": [
    "ret_syn = retrieve( syn )\n",
    "ret_syn"
   ]
  },
  {
   "cell_type": "code",
   "execution_count": 32,
   "metadata": {},
   "outputs": [
    {
     "data": {
      "text/plain": [
       "<SignatureVerification(True)>"
      ]
     },
     "execution_count": 32,
     "metadata": {},
     "output_type": "execute_result"
    }
   ],
   "source": [
    "# Validate the miner sig and pubkey against the content hash\n",
    "verify( content_hash, ret_syn.miner_signature, ret_syn.miner_pubkey )"
   ]
  },
  {
   "cell_type": "code",
   "execution_count": 33,
   "metadata": {},
   "outputs": [
    {
     "data": {
      "text/plain": [
       "GetSize(registry_size=0)"
      ]
     },
     "execution_count": 33,
     "metadata": {},
     "output_type": "execute_result"
    }
   ],
   "source": [
    "class GetSize(bt.Synapse):\n",
    "    class Config:\n",
    "        validate_assignment = True\n",
    "\n",
    "    def deserialize(self) -> str:\n",
    "        return self.size\n",
    "\n",
    "    # Return values\n",
    "    registry_size: typing.Optional[int] = 0\n",
    "\n",
    "syn = GetSize()\n",
    "syn"
   ]
  },
  {
   "cell_type": "code",
   "execution_count": 34,
   "metadata": {},
   "outputs": [],
   "source": [
    "def get_size( synapse: GetSize ) -> GetSize:\n",
    "    # Fill values\n",
    "    synapse.registry_size = len( registry )\n",
    "    # return the filled synapse\n",
    "    return synapse"
   ]
  },
  {
   "cell_type": "code",
   "execution_count": 38,
   "metadata": {},
   "outputs": [
    {
     "data": {
      "text/plain": [
       "[2]"
      ]
     },
     "execution_count": 38,
     "metadata": {},
     "output_type": "execute_result"
    }
   ],
   "source": [
    "sizes = [get_size( syn ).registry_size]\n",
    "sizes"
   ]
  },
  {
   "cell_type": "code",
   "execution_count": 53,
   "metadata": {},
   "outputs": [
    {
     "data": {
      "text/plain": [
       "tensor([0])"
      ]
     },
     "execution_count": 53,
     "metadata": {},
     "output_type": "execute_result"
    }
   ],
   "source": [
    "import torch\n",
    "maxval = max(sizes)\n",
    "maxval\n",
    "random_indices = torch.randperm(maxval)\n",
    "\n",
    "alpha = 0.5  # for example, to select 50% of the indices\n",
    "n = int(alpha * maxval)\n",
    "\n",
    "selected_indices = random_indices[:n]\n",
    "selected_indices"
   ]
  },
  {
   "cell_type": "code",
   "execution_count": 56,
   "metadata": {},
   "outputs": [
    {
     "data": {
      "text/plain": [
       "Verify(registry_indices=[0], all_in_registry=False, all_verified=False, miner_signatures='', miner_pubkeys='')"
      ]
     },
     "execution_count": 56,
     "metadata": {},
     "output_type": "execute_result"
    }
   ],
   "source": [
    "# TODO: The Retrieve synapse should send indices rather than hashes...\n",
    "\n",
    "class Verify(bt.Synapse):\n",
    "    class Config:\n",
    "        validate_assignment = True\n",
    "\n",
    "    def deserialize(self) -> str:\n",
    "        return self.verified\n",
    "\n",
    "    # Query values\n",
    "    registry_indices: typing.List[int] = pydantic.Field(..., allow_mutation=False)\n",
    "\n",
    "    # Return values\n",
    "    all_in_registry: typing.Optional[bool] = False\n",
    "    all_verified: typing.Optional[bool] = False\n",
    "    miner_signatures: typing.Optional[str] = ''\n",
    "    miner_pubkeys: typing.Optional[str] = ''\n",
    "\n",
    "vsyn = Verify( registry_indices = selected_indices.tolist() )\n",
    "vsyn"
   ]
  },
  {
   "cell_type": "code",
   "execution_count": 60,
   "metadata": {},
   "outputs": [
    {
     "data": {
      "text/plain": [
       "['d68e560efbe6f20c31504b2fc1c6d3afa1f58b8ee293ad3311939a5fd5059a12',\n",
       " 'ee2ebb1b9ddd4bb04ed6e5345ea9592579364ae7f89d853327ebab6f70832c1e']"
      ]
     },
     "execution_count": 60,
     "metadata": {},
     "output_type": "execute_result"
    }
   ],
   "source": [
    "keys = list(registry.keys())\n",
    "keys"
   ]
  },
  {
   "cell_type": "code",
   "execution_count": 65,
   "metadata": {},
   "outputs": [
    {
     "data": {
      "text/plain": [
       "array(['d68e560efbe6f20c31504b2fc1c6d3afa1f58b8ee293ad3311939a5fd5059a12',\n",
       "       'ee2ebb1b9ddd4bb04ed6e5345ea9592579364ae7f89d853327ebab6f70832c1e'],\n",
       "      dtype='<U64')"
      ]
     },
     "execution_count": 65,
     "metadata": {},
     "output_type": "execute_result"
    }
   ],
   "source": [
    "import numpy as np\n",
    "arrkeys = np.array(keys)\n",
    "arrkeys"
   ]
  },
  {
   "cell_type": "code",
   "execution_count": 69,
   "metadata": {},
   "outputs": [
    {
     "data": {
      "text/plain": [
       "array(['d68e560efbe6f20c31504b2fc1c6d3afa1f58b8ee293ad3311939a5fd5059a12',\n",
       "       'ee2ebb1b9ddd4bb04ed6e5345ea9592579364ae7f89d853327ebab6f70832c1e'],\n",
       "      dtype='<U64')"
      ]
     },
     "execution_count": 69,
     "metadata": {},
     "output_type": "execute_result"
    }
   ],
   "source": [
    "selected_indices = [0,1]\n",
    "selected_keys = arrkeys[selected_indices]\n",
    "selected_keys"
   ]
  },
  {
   "cell_type": "code",
   "execution_count": 74,
   "metadata": {},
   "outputs": [
    {
     "data": {
      "text/plain": [
       "{'hashes': ['-----BEGIN PGP SIGNED MESSAGE-----\\nHash: SHA256\\n\\nd68e560efbe6f20c31504b2fc1c6d3afa1f58b8ee293ad3311939a5fd5059a12\\n-----BEGIN PGP SIGNATURE-----\\n\\nwsFzBAEBCAAdBQJk/kLVFiEEWIkrFMwI8nKo+cJ1eoGTvrLyZyYACgkQeoGTvrLy\\nZyaQyBAAtnoAIHBZVzGmMQ7B+RgsHd4yB8pKjr5ozsZFEhAaYW1/oMuvACdBN4Jk\\nSIKgQTcUV9t65SMKrCBLR9644YDeeI6RZ1qGqiNM/QHlky2YJqXew1OMmTVi7OLW\\n5a8ENSjArXBCqKiHVuu4ymeOlfAhjUwtg0sNTyDW9H0MtCIVq1gvVpo5YdpMezpU\\n1nAn7WxPqirQSaVXFcxgnTLufgh5kekr4H8DRa5lg9+KQI29/a90B+cxjE1whQMz\\nYUO4kam+dSwnYVNDU7PB8EgiB5Y39vmD0p0HTPtXjZrq8PUpgSb2z6zNS6ZPlE+C\\nw3jHo8a9M7kRc5nl1eMCbk4Xydp4bpWeXIMMryGdSiOVaiLueK09sVPBP95NmWWd\\nJ7jg5z1UmB/B7/xcwCUYm7w8Gya+nChqweTxBwQTrXBg1cRJnjrrPJ3h7ScWPm1a\\nyTIBsgTcUNpgZW2UhOCIRnsYU9lwo1JztsZ2usRdwVmydtWYMExcFuRcy2pRrTsT\\nFavqNNxQUssg6FRVhSIZWxCxBng8yW/PQKdkln3f/g3f/RfL1kAOy7X9oWg6/Dxs\\n/rOQqHxGHpF7BGOp7Niq7Wqtdt7j0y7GMiVzxaCblvrDW16ihAYqFLFoE46iK1JL\\nhKhm7S5a/Fr8N350EO05bETsz3g/cN8iyLYDnGgL7AMWC/bmTtI=\\n=UA40\\n-----END PGP SIGNATURE-----\\n',\n",
       "  '-----BEGIN PGP SIGNED MESSAGE-----\\nHash: SHA256\\n\\nee2ebb1b9ddd4bb04ed6e5345ea9592579364ae7f89d853327ebab6f70832c1e\\n-----BEGIN PGP SIGNATURE-----\\n\\nwsFzBAEBCAAdBQJk/kNTFiEEuqCM0takNwD/+XhhpSlcdBaYPJUACgkQpSlcdBaY\\nPJVefBAAqcTodSLyEX5cSGRFqwD2QifCECXM3ZzMpTfxVUwV0hTc2LvIwdky4+0B\\nCKpKFfuj84p+CZSLD8LQjNX6BYShu6zZdf8Umid8MCYhYLjDBrli57S9NwBiLrxa\\ndd+Sfbuy9W0WkPMjXepLVHfzUmQw7iwJfp4ysGFdKaTlgMhPbfRvITwODHwWqYEw\\ntCbvvpS/oWMp/UBOXGFQEMCIg6VtUq3/kT1hXeikSw9G4Lr7bnR8APMiDV234XrV\\nunSSzc3DPeonYe/ivhej9I8GVPSKSekmhxPbfwn/Cf1OHMnlT/MkiQSu1RE/DuRU\\nlkVFoqh7m/aedWgWoTFS2YOHEQ+HrNccAIKToN1dIbAZJcFi+2UmA7hBAFLjuFml\\nFhzQckpxFnHqEQyzmEUN6KQFWOUuzH/uCIwwbZUn9PiPnaUnXgdZbgtFj4d3ceM5\\nfmZiicxEN6xNwqJtD/1s/nYjQVdwUU9ET5nPyPRMrKdAlggn7yRSEhtGDFDaGqaf\\nbB3ELXyZpQmM6M8gAx0BnbEbtXQTZmxNW0wZReu71j3/xz4lAaJ4G4cBqe0XTTcd\\n3jfe7vOzfX5Asf4UsN4+LosRvW+YqOKVtIUANATiYUGJI4pySeoj19IQj98hsBKY\\noTgnn9R1urRWgPTx9EmHO2DrsrHdnG1VaJ1AYZu0km45UUZjco0=\\n=uQjq\\n-----END PGP SIGNATURE-----\\n',\n",
       "  '-----BEGIN PGP SIGNED MESSAGE-----\\nHash: SHA256\\n\\nd68e560efbe6f20c31504b2fc1c6d3afa1f58b8ee293ad3311939a5fd5059a12\\n-----BEGIN PGP SIGNATURE-----\\n\\nwsFzBAEBCAAdBQJk/kLVFiEEWIkrFMwI8nKo+cJ1eoGTvrLyZyYACgkQeoGTvrLy\\nZyaQyBAAtnoAIHBZVzGmMQ7B+RgsHd4yB8pKjr5ozsZFEhAaYW1/oMuvACdBN4Jk\\nSIKgQTcUV9t65SMKrCBLR9644YDeeI6RZ1qGqiNM/QHlky2YJqXew1OMmTVi7OLW\\n5a8ENSjArXBCqKiHVuu4ymeOlfAhjUwtg0sNTyDW9H0MtCIVq1gvVpo5YdpMezpU\\n1nAn7WxPqirQSaVXFcxgnTLufgh5kekr4H8DRa5lg9+KQI29/a90B+cxjE1whQMz\\nYUO4kam+dSwnYVNDU7PB8EgiB5Y39vmD0p0HTPtXjZrq8PUpgSb2z6zNS6ZPlE+C\\nw3jHo8a9M7kRc5nl1eMCbk4Xydp4bpWeXIMMryGdSiOVaiLueK09sVPBP95NmWWd\\nJ7jg5z1UmB/B7/xcwCUYm7w8Gya+nChqweTxBwQTrXBg1cRJnjrrPJ3h7ScWPm1a\\nyTIBsgTcUNpgZW2UhOCIRnsYU9lwo1JztsZ2usRdwVmydtWYMExcFuRcy2pRrTsT\\nFavqNNxQUssg6FRVhSIZWxCxBng8yW/PQKdkln3f/g3f/RfL1kAOy7X9oWg6/Dxs\\n/rOQqHxGHpF7BGOp7Niq7Wqtdt7j0y7GMiVzxaCblvrDW16ihAYqFLFoE46iK1JL\\nhKhm7S5a/Fr8N350EO05bETsz3g/cN8iyLYDnGgL7AMWC/bmTtI=\\n=UA40\\n-----END PGP SIGNATURE-----\\n',\n",
       "  '-----BEGIN PGP SIGNED MESSAGE-----\\nHash: SHA256\\n\\nee2ebb1b9ddd4bb04ed6e5345ea9592579364ae7f89d853327ebab6f70832c1e\\n-----BEGIN PGP SIGNATURE-----\\n\\nwsFzBAEBCAAdBQJk/kNTFiEEuqCM0takNwD/+XhhpSlcdBaYPJUACgkQpSlcdBaY\\nPJVefBAAqcTodSLyEX5cSGRFqwD2QifCECXM3ZzMpTfxVUwV0hTc2LvIwdky4+0B\\nCKpKFfuj84p+CZSLD8LQjNX6BYShu6zZdf8Umid8MCYhYLjDBrli57S9NwBiLrxa\\ndd+Sfbuy9W0WkPMjXepLVHfzUmQw7iwJfp4ysGFdKaTlgMhPbfRvITwODHwWqYEw\\ntCbvvpS/oWMp/UBOXGFQEMCIg6VtUq3/kT1hXeikSw9G4Lr7bnR8APMiDV234XrV\\nunSSzc3DPeonYe/ivhej9I8GVPSKSekmhxPbfwn/Cf1OHMnlT/MkiQSu1RE/DuRU\\nlkVFoqh7m/aedWgWoTFS2YOHEQ+HrNccAIKToN1dIbAZJcFi+2UmA7hBAFLjuFml\\nFhzQckpxFnHqEQyzmEUN6KQFWOUuzH/uCIwwbZUn9PiPnaUnXgdZbgtFj4d3ceM5\\nfmZiicxEN6xNwqJtD/1s/nYjQVdwUU9ET5nPyPRMrKdAlggn7yRSEhtGDFDaGqaf\\nbB3ELXyZpQmM6M8gAx0BnbEbtXQTZmxNW0wZReu71j3/xz4lAaJ4G4cBqe0XTTcd\\n3jfe7vOzfX5Asf4UsN4+LosRvW+YqOKVtIUANATiYUGJI4pySeoj19IQj98hsBKY\\noTgnn9R1urRWgPTx9EmHO2DrsrHdnG1VaJ1AYZu0km45UUZjco0=\\n=uQjq\\n-----END PGP SIGNATURE-----\\n'],\n",
       " 'pubkeys': ['-----BEGIN PGP PUBLIC KEY BLOCK-----\\n\\nxsFNBGT+QtQBEAC3KoBMxjr4Kn3s/1LKKZIKBTOeyARDBmo9TdsZz69OTiK5VbjB\\n5HwDntNkXV2gznfuRWMGVr1PM+vf2i9ie4CkIBL2nQxWXlNHL8nLfCRMiD6SSoFi\\nMRUdKHdApgU3/5tT3ylQuwbHI+lmk7ypC/pzCtl8R3PZnWPWomZOlnCh5WcnwzlH\\niGTR6UT8xno6jV9pt4vPP8YeYyd4n+CsWcF2OM6Pu/rR6dE2YWuvIWfWHzgDcdHR\\nb/Dd/0V7garAA9HaGBusgM5UXXYzNtvGBq+qAhGJ16idOj5xEaRtjuQ1RSWX0u2V\\nmLZEy4Lb4pRaYwnvdLgODVOnWwG0HwMlybDd9He4IxAkMQ5eTswSjBdfdVY/0G3q\\no1QO7UfWC++UYb0+p6CPauWIoNGSnKatXpK6GfOFwjOahj9F1vORYWwjceychr5n\\n1E2gsp59WlUqVAGWFx6cTIT73frbZIAM2YyAk2/Rd+3UAgIFuP5zNAjL5lJtzscO\\ntPDUJeGO0AK5OlsV94WJoE1APXKn6/FUf+x2IwzZRYg33Etf/Eng2a180twBEj0n\\neGSUu6v0dbAoJ/s1s1IsMaCWBQ2zZKudcmoDmmIrasC/o7d+v1J3SRdt2kQB7VgX\\nwD+sxQyLth3ivhyg0AHY1hoB2FAriFZR/1MG0oHz+BzTRss/WYenFE2kmwARAQAB\\nzRxUZXN0IFVzZXIgPHRlc3RAZXhhbXBsZS5jb20+wsGGBBMBCAAwBQJk/kLUAhsO\\nAwsJBwMVCAoEFgIBAAIeARYhBFiJKxTMCPJyqPnCdXqBk76y8mcmAAoJEHqBk76y\\n8mcm1u8QAKkTRSbxSWvsf6su3Rl+9VlL+Zcmozbkkgs/6e8bTYA9b4PlbksvgeCg\\n1TUe7CDaCTyK5IS+XwP+U2Tdei9KLVQBXpmoTU+YyCFj21tHiu3P8D5OoYB0OnJ6\\nQR8X8cNoj5hidZzokRYV7orxxk7K2TENUJVw9FWKCglF9dFH+CPM+6mYxLCx7/Fr\\nmZA68qo4eKQivzbMNM7rQ+Q9NGSE2CT6ciMcD5Ez+W5O/vx8sIDABHvquOtcG8t3\\nYtUlga2My0Tq03HdzBIXD7CuwfDv00mL1s8OKQhdeMqZsOEx5Z7kSF5bOB90zjh5\\nv76bwdVjvn9YjPmKhowekBjbB+stvtIU6NbbtDs4rFJIniIAFV6bciHvYxIlVA3A\\nh4OR5Zdd/XUzEEhwAyGzVxqHQmXilOZ3nWpjIqT62duXwXxe/k89vynHxmzD9gf9\\nB4u7kYnvLyNv23gUCYY/9nYiPBxIWNC0w1RFjRNJbssnA6p5ihJv0vTD8d5MXMkS\\nrjghQXuhy7wwLkuNZhKmKy5WcUFt9qjKjdxvsmUl2GXH/pXM32qOdtkiYLEVbzJw\\nOsg3mpKev3kWbP6BYiHkj699OB9LKzPoxEDYHoEKTn4v5FSGimhMFiG51BTTn56S\\nySxbBBErTEgLM3VwZRjKOaIRxgOumL0K8Bl7Mp6hLdQNdgp6Eazj\\n=U4M6\\n-----END PGP PUBLIC KEY BLOCK-----\\n',\n",
       "  '-----BEGIN PGP PUBLIC KEY BLOCK-----\\n\\nxsFNBGT+Q1IBEADDOhTlxhmY4hnBOy/SugAyOcUYpwGcolqpiBZMK7FOcqmqOP0Q\\nHr6iuUFN/jyARvNIScs9eCvw/aLNp6lbqigraBLkc9zXGv73MxgwWiWnKD4nhUyp\\nlc5qhln3t8cOIV4bd7eb+dQxzPg1XRryQ3UX28ZnAmsoUKftdajF1WvvAu+auMwv\\nrSo0klbxjECRu8xioNuAoEua8hb6CQ/l9XRW1q9OZYd2OUyWzqIQgsk7yYcBeW2h\\ni9EzqTsTuDNoMNrjKUwR0GImsJXYQxIKPmh1HzyyUo6F7Iqvd8njsWoC3+c7QaX7\\nwDBCkkZsALmVjf9pCE0xYpf2/dxFt+fv6UrU9IfKtZtVvBl379jAbq6mVwarNRC3\\nZwS9U+eU6GWIgGQUFFF94G3ewp/KHzysfA3Vxu64UosvyVvNrzJKTlerNiujo/8/\\nuie5m37A+BAUSBt/Qxpu5lWDBWcaHFw0JxBkhoI+GV+A83F9nyuxjJAx2pqoNi/w\\n142/Nm4GYXQn5t5L49XPMzrbVHTTOVfpil11I68MmovTlCTG0rNoDBEaZy5xV7gt\\nnpwH2UvqmTX3Ir/Ksi1P0zg/ksbtK2MWezQszSWpWZo9PuTcZrmLokgI/qQbmHGw\\n0y8tym8Fw4c2L9OM9HG/knRfJcxxUEQRZDAHFDBjGwCtpcUZ9NLlTuyqgQARAQAB\\nzRxUZXN0IFVzZXIgPHRlc3RAZXhhbXBsZS5jb20+wsGGBBMBCAAwBQJk/kNSAhsO\\nAwsJBwMVCAoEFgIBAAIeARYhBLqgjNLWpDcA//l4YaUpXHQWmDyVAAoJEKUpXHQW\\nmDyVwK4P/3PgsRNp7SXpnw4QI5+KcQhOCfkxhIc8wNMmykx0cGTSTt9C1E85ft18\\n6eDG2ZANZpAEagv92IMHPk8vN3EoN5HJNbM++++WzpVpL1y50h/Ee5/U4BTjZ0PE\\nHmpxK3AydH+KorDvXQWydUioX7AF5dtQtEeQxAb9KBS+A2X3Bq1dlfTZ6F3jfh1M\\nnsZDL78a4yMTfddjw00oKGLKaW6qXIy1Ybx2sA0WZ+tdvQiRWexX83EX31wt3FYx\\nKUrOhqP+820Oyvg+DR72G0TrJgSzE1T/fTzVceAUtC5/6bWdZ5jWyxhIEPcIxByF\\nIGc+dN3zFsFrbb2O2X8lJsnsm2oIpUKR90QIxbp5wWEyTTFlW1WQOc9keAWD3vX2\\nFPG3xNo+Es57/Cx5FD5iErJHx2O/5rFP78WopgcM2TYtHe3VQ8ieAPRwfAIsJ/26\\nYABpuwDEewzu8lKYZR8GKzsFZtY5F6B5ROBMKcyNP/zB2wmXBmhFJcf9fzBZp9kO\\nhZeicgQo7Y7i8+62oC6PLw1YnXjRa1/oFXYhpBt1lfHt+jpsFf0IpF3ZZnMIj7DA\\nn2eE8E9zxnHkcxFAYUcct+ckMuwkRrCsx3gJf7A1egJ920is1cnMAItiahT63nlJ\\nAkEVVbJNCKwYbEU05ABf53BTV6AmqSwNoLT3L3OrkMDjgV6O0Atu\\n=PfJs\\n-----END PGP PUBLIC KEY BLOCK-----\\n',\n",
       "  '-----BEGIN PGP PUBLIC KEY BLOCK-----\\n\\nxsFNBGT+QtQBEAC3KoBMxjr4Kn3s/1LKKZIKBTOeyARDBmo9TdsZz69OTiK5VbjB\\n5HwDntNkXV2gznfuRWMGVr1PM+vf2i9ie4CkIBL2nQxWXlNHL8nLfCRMiD6SSoFi\\nMRUdKHdApgU3/5tT3ylQuwbHI+lmk7ypC/pzCtl8R3PZnWPWomZOlnCh5WcnwzlH\\niGTR6UT8xno6jV9pt4vPP8YeYyd4n+CsWcF2OM6Pu/rR6dE2YWuvIWfWHzgDcdHR\\nb/Dd/0V7garAA9HaGBusgM5UXXYzNtvGBq+qAhGJ16idOj5xEaRtjuQ1RSWX0u2V\\nmLZEy4Lb4pRaYwnvdLgODVOnWwG0HwMlybDd9He4IxAkMQ5eTswSjBdfdVY/0G3q\\no1QO7UfWC++UYb0+p6CPauWIoNGSnKatXpK6GfOFwjOahj9F1vORYWwjceychr5n\\n1E2gsp59WlUqVAGWFx6cTIT73frbZIAM2YyAk2/Rd+3UAgIFuP5zNAjL5lJtzscO\\ntPDUJeGO0AK5OlsV94WJoE1APXKn6/FUf+x2IwzZRYg33Etf/Eng2a180twBEj0n\\neGSUu6v0dbAoJ/s1s1IsMaCWBQ2zZKudcmoDmmIrasC/o7d+v1J3SRdt2kQB7VgX\\nwD+sxQyLth3ivhyg0AHY1hoB2FAriFZR/1MG0oHz+BzTRss/WYenFE2kmwARAQAB\\nzRxUZXN0IFVzZXIgPHRlc3RAZXhhbXBsZS5jb20+wsGGBBMBCAAwBQJk/kLUAhsO\\nAwsJBwMVCAoEFgIBAAIeARYhBFiJKxTMCPJyqPnCdXqBk76y8mcmAAoJEHqBk76y\\n8mcm1u8QAKkTRSbxSWvsf6su3Rl+9VlL+Zcmozbkkgs/6e8bTYA9b4PlbksvgeCg\\n1TUe7CDaCTyK5IS+XwP+U2Tdei9KLVQBXpmoTU+YyCFj21tHiu3P8D5OoYB0OnJ6\\nQR8X8cNoj5hidZzokRYV7orxxk7K2TENUJVw9FWKCglF9dFH+CPM+6mYxLCx7/Fr\\nmZA68qo4eKQivzbMNM7rQ+Q9NGSE2CT6ciMcD5Ez+W5O/vx8sIDABHvquOtcG8t3\\nYtUlga2My0Tq03HdzBIXD7CuwfDv00mL1s8OKQhdeMqZsOEx5Z7kSF5bOB90zjh5\\nv76bwdVjvn9YjPmKhowekBjbB+stvtIU6NbbtDs4rFJIniIAFV6bciHvYxIlVA3A\\nh4OR5Zdd/XUzEEhwAyGzVxqHQmXilOZ3nWpjIqT62duXwXxe/k89vynHxmzD9gf9\\nB4u7kYnvLyNv23gUCYY/9nYiPBxIWNC0w1RFjRNJbssnA6p5ihJv0vTD8d5MXMkS\\nrjghQXuhy7wwLkuNZhKmKy5WcUFt9qjKjdxvsmUl2GXH/pXM32qOdtkiYLEVbzJw\\nOsg3mpKev3kWbP6BYiHkj699OB9LKzPoxEDYHoEKTn4v5FSGimhMFiG51BTTn56S\\nySxbBBErTEgLM3VwZRjKOaIRxgOumL0K8Bl7Mp6hLdQNdgp6Eazj\\n=U4M6\\n-----END PGP PUBLIC KEY BLOCK-----\\n',\n",
       "  '-----BEGIN PGP PUBLIC KEY BLOCK-----\\n\\nxsFNBGT+Q1IBEADDOhTlxhmY4hnBOy/SugAyOcUYpwGcolqpiBZMK7FOcqmqOP0Q\\nHr6iuUFN/jyARvNIScs9eCvw/aLNp6lbqigraBLkc9zXGv73MxgwWiWnKD4nhUyp\\nlc5qhln3t8cOIV4bd7eb+dQxzPg1XRryQ3UX28ZnAmsoUKftdajF1WvvAu+auMwv\\nrSo0klbxjECRu8xioNuAoEua8hb6CQ/l9XRW1q9OZYd2OUyWzqIQgsk7yYcBeW2h\\ni9EzqTsTuDNoMNrjKUwR0GImsJXYQxIKPmh1HzyyUo6F7Iqvd8njsWoC3+c7QaX7\\nwDBCkkZsALmVjf9pCE0xYpf2/dxFt+fv6UrU9IfKtZtVvBl379jAbq6mVwarNRC3\\nZwS9U+eU6GWIgGQUFFF94G3ewp/KHzysfA3Vxu64UosvyVvNrzJKTlerNiujo/8/\\nuie5m37A+BAUSBt/Qxpu5lWDBWcaHFw0JxBkhoI+GV+A83F9nyuxjJAx2pqoNi/w\\n142/Nm4GYXQn5t5L49XPMzrbVHTTOVfpil11I68MmovTlCTG0rNoDBEaZy5xV7gt\\nnpwH2UvqmTX3Ir/Ksi1P0zg/ksbtK2MWezQszSWpWZo9PuTcZrmLokgI/qQbmHGw\\n0y8tym8Fw4c2L9OM9HG/knRfJcxxUEQRZDAHFDBjGwCtpcUZ9NLlTuyqgQARAQAB\\nzRxUZXN0IFVzZXIgPHRlc3RAZXhhbXBsZS5jb20+wsGGBBMBCAAwBQJk/kNSAhsO\\nAwsJBwMVCAoEFgIBAAIeARYhBLqgjNLWpDcA//l4YaUpXHQWmDyVAAoJEKUpXHQW\\nmDyVwK4P/3PgsRNp7SXpnw4QI5+KcQhOCfkxhIc8wNMmykx0cGTSTt9C1E85ft18\\n6eDG2ZANZpAEagv92IMHPk8vN3EoN5HJNbM++++WzpVpL1y50h/Ee5/U4BTjZ0PE\\nHmpxK3AydH+KorDvXQWydUioX7AF5dtQtEeQxAb9KBS+A2X3Bq1dlfTZ6F3jfh1M\\nnsZDL78a4yMTfddjw00oKGLKaW6qXIy1Ybx2sA0WZ+tdvQiRWexX83EX31wt3FYx\\nKUrOhqP+820Oyvg+DR72G0TrJgSzE1T/fTzVceAUtC5/6bWdZ5jWyxhIEPcIxByF\\nIGc+dN3zFsFrbb2O2X8lJsnsm2oIpUKR90QIxbp5wWEyTTFlW1WQOc9keAWD3vX2\\nFPG3xNo+Es57/Cx5FD5iErJHx2O/5rFP78WopgcM2TYtHe3VQ8ieAPRwfAIsJ/26\\nYABpuwDEewzu8lKYZR8GKzsFZtY5F6B5ROBMKcyNP/zB2wmXBmhFJcf9fzBZp9kO\\nhZeicgQo7Y7i8+62oC6PLw1YnXjRa1/oFXYhpBt1lfHt+jpsFf0IpF3ZZnMIj7DA\\nn2eE8E9zxnHkcxFAYUcct+ckMuwkRrCsx3gJf7A1egJ920is1cnMAItiahT63nlJ\\nAkEVVbJNCKwYbEU05ABf53BTV6AmqSwNoLT3L3OrkMDjgV6O0Atu\\n=PfJs\\n-----END PGP PUBLIC KEY BLOCK-----\\n']}"
      ]
     },
     "execution_count": 74,
     "metadata": {},
     "output_type": "execute_result"
    }
   ],
   "source": [
    "# TODO: THESE SOULD BE PAIRS OF (SIGNATURE, PUBKEY) so we can easily compare them\n",
    "\n",
    "miner_data = {'hashes': [], 'pubkeys': []}\n",
    "for i in selected_keys:\n",
    "    miner_hash, miner_pubkey = registry[i]\n",
    "    hashes.append(miner_hash)\n",
    "    pubkeys.append(miner_pubkey)\n",
    "\n",
    "miner_data['hashes'] = hashes\n",
    "miner_data['pubkeys'] = pubkeys\n",
    "miner_data"
   ]
  },
  {
   "cell_type": "code",
   "execution_count": null,
   "metadata": {},
   "outputs": [],
   "source": [
    "def verify_random_indices( indices: typing.List[int] ):\n",
    "    keys = torch.tensor(list(registry.keys()))\n",
    "    keys[indices]"
   ]
  },
  {
   "cell_type": "code",
   "execution_count": null,
   "metadata": {},
   "outputs": [],
   "source": [
    "verify_random_indices( indices )"
   ]
  },
  {
   "cell_type": "code",
   "execution_count": null,
   "metadata": {},
   "outputs": [],
   "source": []
  },
  {
   "cell_type": "code",
   "execution_count": null,
   "metadata": {},
   "outputs": [],
   "source": []
  },
  {
   "cell_type": "code",
   "execution_count": 16,
   "metadata": {},
   "outputs": [
    {
     "data": {
      "text/plain": [
       "array([413, 476, 251, 548, 792,  12,  55, 675, 212, 673])"
      ]
     },
     "execution_count": 16,
     "metadata": {},
     "output_type": "execute_result"
    }
   ],
   "source": [
    "# modulo index length to ensure it's in range\n",
    "# Validator side\n",
    "import numpy as np\n",
    "idxs = np.random.randint(0, 1000, 10)\n",
    "idxs\n",
    "# Miner recieves list of indices"
   ]
  },
  {
   "cell_type": "code",
   "execution_count": 17,
   "metadata": {},
   "outputs": [
    {
     "data": {
      "text/plain": [
       "array([ 5, 40, 59, 76, 92,  4, 83, 11, 76,  9])"
      ]
     },
     "execution_count": 17,
     "metadata": {},
     "output_type": "execute_result"
    }
   ],
   "source": [
    "# Miner side\n",
    "registry = np.array(list(range(100)))\n",
    "idx = (idxs ^ len(registry)) % len(registry)\n",
    "idx"
   ]
  }
 ],
 "metadata": {
  "kernelspec": {
   "display_name": "rev",
   "language": "python",
   "name": "python3"
  },
  "language_info": {
   "codemirror_mode": {
    "name": "ipython",
    "version": 3
   },
   "file_extension": ".py",
   "mimetype": "text/x-python",
   "name": "python",
   "nbconvert_exporter": "python",
   "pygments_lexer": "ipython3",
   "version": "3.10.12"
  },
  "orig_nbformat": 4
 },
 "nbformat": 4,
 "nbformat_minor": 2
}
